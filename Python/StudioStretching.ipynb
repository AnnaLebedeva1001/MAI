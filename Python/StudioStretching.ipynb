{
 "cells": [
  {
   "cell_type": "markdown",
   "metadata": {},
   "source": [
    "Спортивные услуги. Запись клиента на занятие. Лебедева Анна, группа М8О-110Б-19"
   ]
  },
  {
   "cell_type": "code",
   "execution_count": 2,
   "metadata": {},
   "outputs": [],
   "source": [
    "import functools\n",
    "import datetime"
   ]
  },
  {
   "cell_type": "code",
   "execution_count": 3,
   "metadata": {},
   "outputs": [],
   "source": [
    "#Основной класс\n",
    "class StudioStretching:\n",
    "    \"Студия растяжки\"\n",
    "    \n",
    "    def __init__(self, name, address):\n",
    "        self.name = name #название\n",
    "        self.address = address #адрес\n",
    "        self.workouts = {} #занятия\n",
    "        self.managers = [] #менеджеры\n",
    "        self.instructors = [] #тренеры\n",
    "        self.customers = [] #клиенты\n",
    "        self.fund = 0 #капитал\n",
    "        \n",
    "    def register(self, date, customer, workout, manager, instructor, time):\n",
    "        \"\"\"Запись на занятие\"\"\"\n",
    "        for workout, amount in workout.items():\n",
    "            if workout not in self.workouts.keys():\n",
    "                print('Запись не возможна на {}'.format(workout))\n",
    "                continue\n",
    "            summa = self.pricelist[workout]*amount\n",
    "            Registration(date, workout, customer, manager, amount, summa).save()\n",
    "            self.fund += summa\n",
    "            print(\"Клиент {} записан(а) на занятие {} в {}, тренер {}\".format(customer, workout, time, instructor))\n",
    "            manager.register(date, workout, amount,  summa)\n",
    "            customer.signed(date, workout, amount, summa)\n",
    "\n",
    "        \n",
    "    def add_manager(self, manager):\n",
    "        \"\"\" Добавление менеджера \"\"\"\n",
    "        self.managers.append(manager)\n",
    "    \n",
    "    def add_customer(self, customer):\n",
    "        \"\"\" Добавление клиента \"\"\"\n",
    "        self.customers.append(customer)\n",
    "        \n",
    "    def add_instructor(self, instructor):\n",
    "        \"\"\" Добавление инструктора \"\"\"\n",
    "        self.instructors.append(instructor)\n",
    "        \n",
    "    def schedule(self, workouts, time):\n",
    "        \"\"\" Расписание \"\"\"\n",
    "        time = 16\n",
    "        for workout in workouts:\n",
    "            workouts = {}.fromkeys(workouts)\n",
    "            self.workouts[workout] = str(time)+':00'\n",
    "            time+=1\n",
    "            \n",
    "    def instructor_workout(self, instructor, workouts):\n",
    "        \"\"\" Закрепление тренировки за инструктором \"\"\"\n",
    "        for workout in workouts:\n",
    "            workouts = {}.fromkeys(workouts)\n",
    "            self.workouts[workout] = instructor\n",
    "        \n",
    "    def __repr__(self):\n",
    "        return self.name\n",
    "    \n",
    "    def set_fund(self, fund):\n",
    "        self.fund = fund\n",
    "\n",
    "    def get_fund(self):\n",
    "        return self.fund\n",
    "    \n",
    "    def set_pricelist(self, pricelist):\n",
    "        self.pricelist = pricelist\n",
    "        \n",
    "    \n",
    "class Customer:\n",
    "    \"\"\" Клиент в студии \"\"\"\n",
    "    items = []\n",
    "    def __init__(self, name):\n",
    "        self.name = name\n",
    "        type(self).items.append(self)\n",
    "        \n",
    "    def __repr__(self):\n",
    "        return self.name\n",
    "    \n",
    "    def signed(self, date, workout, amount, summa):\n",
    "        with open(\"customers.txt\", 'a+', encoding = 'utf-8') as file:\n",
    "            file.write(\"{:%Y-%m-%d} {} {} {} {}\\n\".format(date, \n",
    "                                                          Customer.items.index(self),\n",
    "                                                          Workout.items.index(workout), amount,\n",
    "                                                          summa\n",
    "                                                         )\n",
    "                      )\n",
    "    \n",
    "class Manager:\n",
    "    \"\"\" Менеджер студии, который записывает клиента на тренировку \"\"\"\n",
    "    items = []\n",
    "    def __init__(self, name):\n",
    "        self.name = name\n",
    "        type(self).items.append(self)\n",
    "        \n",
    "    def register(self, date, workout, amount,  summa):\n",
    "        with open('managers.txt', 'a+', encoding='utf-8') as file:\n",
    "            file.write(\"{:%Y-%m-%d} {} {} {} {}\\n\".format(date,\n",
    "                                                          Manager.items.index(self),\n",
    "                                                          Workout.items.index(workout), amount,\n",
    "                                                          summa\n",
    "                                                         )\n",
    "                      )\n",
    "    \n",
    "    def __repr__(self):\n",
    "        return self.name\n",
    "    \n",
    "class Instructor:\n",
    "    \"\"\"Тренер\"\"\"\n",
    "    items = []\n",
    "    def __init__(self, name):\n",
    "        self.name = name\n",
    "        type(self).items.append(self)\n",
    "    \n",
    "    def __repr__(self):\n",
    "        return self.name\n",
    "    \n",
    "class Registration:\n",
    "    \"\"\"Запись на занятие\"\"\"\n",
    "    def __init__(self, date, workout, customer, manager, amount, summa):        \n",
    "        self.date = date\n",
    "        self.workout = workout\n",
    "        self.customer = customer\n",
    "        self.manager = manager\n",
    "        self.amount = amount\n",
    "        self.summa = summa\n",
    "        \n",
    "    def save(self):\n",
    "        with open('registration.txt', 'a+', encoding='utf-8') as file:\n",
    "            file.write(\"{:%Y-%m-%d} {} {} {} {} {}\\n\".format(self.date, \n",
    "                                                          Workout.items.index(self.workout), \n",
    "                                                          Customer.items.index(self.customer),\n",
    "                                                          Manager.items.index(self.manager), self.amount,\n",
    "                                                          self.summa\n",
    "                                                         )\n",
    "                      )\n",
    "    \n",
    "class Workout:\n",
    "    \"\"\"Тренировки \"\"\"\n",
    "    \n",
    "    items = []\n",
    "    def __init__(self, name):\n",
    "        self.name = name\n",
    "        type(self).items.append(self)\n",
    "    \n",
    "    def __repr__(self):\n",
    "        return self.name\n"
   ]
  },
  {
   "cell_type": "code",
   "execution_count": 4,
   "metadata": {},
   "outputs": [],
   "source": [
    "#Создаём студию\n",
    "studiostretching = StudioStretching(name = \"TopStretching\", address = \"ул. Фестивальная, дом 33\")"
   ]
  },
  {
   "cell_type": "code",
   "execution_count": 5,
   "metadata": {},
   "outputs": [
    {
     "data": {
      "text/plain": [
       "[Александра Солдатова, Екатерина Селезнёва]"
      ]
     },
     "execution_count": 5,
     "metadata": {},
     "output_type": "execute_result"
    }
   ],
   "source": [
    "#Добавляем менеджеров\n",
    "soldatova = Manager('Александра Солдатова')\n",
    "selezneva = Manager('Екатерина Селезнёва')\n",
    "for manager in [soldatova, selezneva]:\n",
    "    studiostretching.add_manager(manager)\n",
    "studiostretching.managers"
   ]
  },
  {
   "cell_type": "code",
   "execution_count": 6,
   "metadata": {},
   "outputs": [
    {
     "data": {
      "text/plain": [
       "[Анна Канюк, Аделина Лазарова, Милена Миланич]"
      ]
     },
     "execution_count": 6,
     "metadata": {},
     "output_type": "execute_result"
    }
   ],
   "source": [
    "#Добавляем инструкторов\n",
    "kanyuk = Instructor('Анна Канюк')\n",
    "lazarova = Instructor('Аделина Лазарова')\n",
    "milanich = Instructor('Милена Миланич')\n",
    "for instructor in [kanyuk, lazarova, milanich]:\n",
    "    studiostretching.add_instructor(instructor)\n",
    "studiostretching.instructors"
   ]
  },
  {
   "cell_type": "code",
   "execution_count": 7,
   "metadata": {},
   "outputs": [
    {
     "data": {
      "text/plain": [
       "{Растяжка: '16:00',\n",
       " Йога: '17:00',\n",
       " Пилатес: '18:00',\n",
       " Йога в гамаках: '19:00',\n",
       " TRX петли: '20:00',\n",
       " Функциональная тренировка: '21:00'}"
      ]
     },
     "execution_count": 7,
     "metadata": {},
     "output_type": "execute_result"
    }
   ],
   "source": [
    "#Добавляем тренировки в расписание\n",
    "stretching = Workout(\"Растяжка\")\n",
    "yoga = Workout(\"Йога\")\n",
    "pilates = Workout(\"Пилатес\")\n",
    "fly_yoga = Workout(\"Йога в гамаках\")\n",
    "trx = Workout(\"TRX петли\")\n",
    "function = Workout(\"Функциональная тренировка\")\n",
    "studiostretching.schedule([stretching, yoga, pilates, fly_yoga, trx, function], 0)\n",
    "studiostretching.workouts"
   ]
  },
  {
   "cell_type": "code",
   "execution_count": 8,
   "metadata": {},
   "outputs": [
    {
     "data": {
      "text/plain": [
       "{Растяжка: Анна Канюк,\n",
       " Йога: Аделина Лазарова,\n",
       " Пилатес: Милена Миланич,\n",
       " Йога в гамаках: Анна Канюк,\n",
       " TRX петли: Аделина Лазарова,\n",
       " Функциональная тренировка: Милена Миланич}"
      ]
     },
     "execution_count": 8,
     "metadata": {},
     "output_type": "execute_result"
    }
   ],
   "source": [
    "#Закрепляем за тренером направления, которые он преподаёт\n",
    "studiostretching.instructor_workout(kanyuk, [stretching, fly_yoga])\n",
    "studiostretching.instructor_workout(lazarova, [yoga, trx])\n",
    "studiostretching.instructor_workout(milanich, [pilates, function])\n",
    "studiostretching.workouts"
   ]
  },
  {
   "cell_type": "code",
   "execution_count": 9,
   "metadata": {},
   "outputs": [
    {
     "data": {
      "text/plain": [
       "[Мамун М., Кудрявцева Я., Медведева С., Лебедева А., Кисляков А., Лихачёв А.]"
      ]
     },
     "execution_count": 9,
     "metadata": {},
     "output_type": "execute_result"
    }
   ],
   "source": [
    "#Добавляем клентов\n",
    "mamun = Customer('Мамун М.')\n",
    "kudryavtseva= Customer('Кудрявцева Я.')\n",
    "medvedeva = Customer('Медведева С.')\n",
    "lebedeva = Customer('Лебедева А.')\n",
    "kislyakov = Customer('Кисляков А.')\n",
    "lihachev = Customer ('Лихачёв А.')\n",
    "for customer in [mamun, kudryavtseva, medvedeva, lebedeva, kislyakov, lihachev]:\n",
    "    studiostretching.add_customer(customer)\n",
    "studiostretching.customers   "
   ]
  },
  {
   "cell_type": "code",
   "execution_count": 10,
   "metadata": {},
   "outputs": [],
   "source": [
    "#Зададим капитал\n",
    "studiostretching.set_fund(50000)"
   ]
  },
  {
   "cell_type": "code",
   "execution_count": 11,
   "metadata": {},
   "outputs": [],
   "source": [
    "#Создадим прайс-лист\n",
    "studiostretching.set_pricelist({trx: 500, stretching: 300, pilates: 350, function: 400, yoga: 350, fly_yoga: 500})"
   ]
  },
  {
   "cell_type": "code",
   "execution_count": 12,
   "metadata": {},
   "outputs": [
    {
     "name": "stdout",
     "output_type": "stream",
     "text": [
      "Клиент Медведева С. записан(а) на занятие TRX петли в 20:00, тренер Аделина Лазарова\n"
     ]
    }
   ],
   "source": [
    "#Запишем первых клиентов\n",
    "studiostretching.register(date = datetime.date(2020, 5, 6), \n",
    "                customer = medvedeva, \n",
    "                workout = {trx: 3}, \n",
    "                manager = soldatova, instructor = lazarova, time = '20:00')"
   ]
  },
  {
   "cell_type": "code",
   "execution_count": 13,
   "metadata": {},
   "outputs": [
    {
     "name": "stdout",
     "output_type": "stream",
     "text": [
      "Клиент Мамун М. записан(а) на занятие Растяжка в 16:00, тренер Анна Канюк\n"
     ]
    }
   ],
   "source": [
    "studiostretching.register(date = datetime.date(2020, 5, 6), \n",
    "                customer = mamun, \n",
    "                workout = {stretching: 6}, \n",
    "                manager = soldatova, instructor = kanyuk, time = '16:00')"
   ]
  },
  {
   "cell_type": "code",
   "execution_count": 14,
   "metadata": {},
   "outputs": [
    {
     "name": "stdout",
     "output_type": "stream",
     "text": [
      "Клиент Кудрявцева Я. записан(а) на занятие Йога в 17:00, тренер Аделина Лазарова\n"
     ]
    }
   ],
   "source": [
    "studiostretching.register(date = datetime.date(2020, 6, 6), \n",
    "                customer = kudryavtseva, \n",
    "                workout = {yoga: 4}, \n",
    "                manager = soldatova, instructor = lazarova, time = '17:00')"
   ]
  },
  {
   "cell_type": "code",
   "execution_count": 15,
   "metadata": {},
   "outputs": [
    {
     "name": "stdout",
     "output_type": "stream",
     "text": [
      "Клиент Лебедева А. записан(а) на занятие TRX петли в 20:00, тренер Аделина Лазарова\n"
     ]
    }
   ],
   "source": [
    "studiostretching.register(date = datetime.date(2020, 6, 6), \n",
    "                customer = lebedeva, \n",
    "                workout = {trx: 8}, \n",
    "                manager = selezneva, instructor = lazarova, time = '20:00')"
   ]
  },
  {
   "cell_type": "code",
   "execution_count": 16,
   "metadata": {},
   "outputs": [
    {
     "name": "stdout",
     "output_type": "stream",
     "text": [
      "Клиент Медведева С. записан(а) на занятие Йога в гамаках в 19:00, тренер Анна Канюк\n"
     ]
    }
   ],
   "source": [
    "studiostretching.register(date = datetime.date(2020, 7, 6), \n",
    "                customer = medvedeva, \n",
    "                workout = {fly_yoga: 7}, \n",
    "                manager = selezneva, instructor = kanyuk, time = '19:00')"
   ]
  },
  {
   "cell_type": "code",
   "execution_count": 17,
   "metadata": {},
   "outputs": [
    {
     "name": "stdout",
     "output_type": "stream",
     "text": [
      "Клиент Мамун М. записан(а) на занятие Пилатес в 18:00, тренер Милена Миланич\n"
     ]
    }
   ],
   "source": [
    "studiostretching.register(date = datetime.date(2020, 7, 6), \n",
    "                customer = mamun, \n",
    "                workout = {pilates: 2}, \n",
    "                manager = selezneva, instructor = milanich, time = '18:00')"
   ]
  },
  {
   "cell_type": "code",
   "execution_count": 18,
   "metadata": {},
   "outputs": [
    {
     "name": "stdout",
     "output_type": "stream",
     "text": [
      "Клиент Кудрявцева Я. записан(а) на занятие Функциональная тренировка в 21:00, тренер Милена Миланич\n"
     ]
    }
   ],
   "source": [
    "studiostretching.register(date = datetime.date(2020, 8, 6), \n",
    "                customer = kudryavtseva, \n",
    "                workout = {function: 5}, \n",
    "                manager = soldatova, instructor = milanich, time = '21:00')"
   ]
  },
  {
   "cell_type": "code",
   "execution_count": 19,
   "metadata": {},
   "outputs": [
    {
     "name": "stdout",
     "output_type": "stream",
     "text": [
      "Клиент Лихачёв А. записан(а) на занятие TRX петли в 20:00, тренер Аделина Лазарова\n"
     ]
    }
   ],
   "source": [
    "studiostretching.register(date = datetime.date(2020, 8, 6), \n",
    "                customer = lihachev, \n",
    "                workout = {trx: 2}, \n",
    "                manager = soldatova, instructor = lazarova, time = '20:00')"
   ]
  },
  {
   "cell_type": "code",
   "execution_count": 20,
   "metadata": {},
   "outputs": [
    {
     "name": "stdout",
     "output_type": "stream",
     "text": [
      "Клиент Кудрявцева Я. записан(а) на занятие Функциональная тренировка в 21:00, тренер Милена Миланич\n"
     ]
    }
   ],
   "source": [
    "studiostretching.register(date = datetime.date(2020, 8, 6), \n",
    "                customer = kudryavtseva, \n",
    "                workout = {function: 10}, \n",
    "                manager = soldatova, instructor = milanich, time = '21:00')"
   ]
  },
  {
   "cell_type": "code",
   "execution_count": 21,
   "metadata": {},
   "outputs": [
    {
     "data": {
      "text/plain": [
       "69900"
      ]
     },
     "execution_count": 21,
     "metadata": {},
     "output_type": "execute_result"
    }
   ],
   "source": [
    "#Проверим капитал\n",
    "studiostretching.get_fund()"
   ]
  },
  {
   "cell_type": "code",
   "execution_count": 82,
   "metadata": {},
   "outputs": [],
   "source": [
    "%matplotlib inline\n",
    "import matplotlib.pyplot as plt\n",
    "import numpy as np\n",
    "import pandas as pd"
   ]
  },
  {
   "cell_type": "code",
   "execution_count": 83,
   "metadata": {},
   "outputs": [],
   "source": [
    "#посмотрим заинтересованность клиентов\n",
    "df = pd.read_csv('customers.txt', sep=' ', header = None)\n",
    "df.columns = [\"date\", 'customer_id', 'workout_id', 'amount',  'summa']"
   ]
  },
  {
   "cell_type": "code",
   "execution_count": 84,
   "metadata": {},
   "outputs": [
    {
     "data": {
      "text/html": [
       "<div>\n",
       "<style scoped>\n",
       "    .dataframe tbody tr th:only-of-type {\n",
       "        vertical-align: middle;\n",
       "    }\n",
       "\n",
       "    .dataframe tbody tr th {\n",
       "        vertical-align: top;\n",
       "    }\n",
       "\n",
       "    .dataframe thead th {\n",
       "        text-align: right;\n",
       "    }\n",
       "</style>\n",
       "<table border=\"1\" class=\"dataframe\">\n",
       "  <thead>\n",
       "    <tr style=\"text-align: right;\">\n",
       "      <th></th>\n",
       "      <th>date</th>\n",
       "      <th>customer_id</th>\n",
       "      <th>workout_id</th>\n",
       "      <th>amount</th>\n",
       "      <th>summa</th>\n",
       "    </tr>\n",
       "  </thead>\n",
       "  <tbody>\n",
       "    <tr>\n",
       "      <td>0</td>\n",
       "      <td>2020-05-06</td>\n",
       "      <td>2</td>\n",
       "      <td>4</td>\n",
       "      <td>3</td>\n",
       "      <td>1500</td>\n",
       "    </tr>\n",
       "    <tr>\n",
       "      <td>1</td>\n",
       "      <td>2020-05-06</td>\n",
       "      <td>0</td>\n",
       "      <td>0</td>\n",
       "      <td>6</td>\n",
       "      <td>1800</td>\n",
       "    </tr>\n",
       "    <tr>\n",
       "      <td>2</td>\n",
       "      <td>2020-06-06</td>\n",
       "      <td>1</td>\n",
       "      <td>1</td>\n",
       "      <td>4</td>\n",
       "      <td>1400</td>\n",
       "    </tr>\n",
       "    <tr>\n",
       "      <td>3</td>\n",
       "      <td>2020-06-06</td>\n",
       "      <td>3</td>\n",
       "      <td>4</td>\n",
       "      <td>8</td>\n",
       "      <td>4000</td>\n",
       "    </tr>\n",
       "    <tr>\n",
       "      <td>4</td>\n",
       "      <td>2020-07-06</td>\n",
       "      <td>2</td>\n",
       "      <td>3</td>\n",
       "      <td>7</td>\n",
       "      <td>3500</td>\n",
       "    </tr>\n",
       "    <tr>\n",
       "      <td>5</td>\n",
       "      <td>2020-07-06</td>\n",
       "      <td>0</td>\n",
       "      <td>2</td>\n",
       "      <td>2</td>\n",
       "      <td>700</td>\n",
       "    </tr>\n",
       "    <tr>\n",
       "      <td>6</td>\n",
       "      <td>2020-08-06</td>\n",
       "      <td>1</td>\n",
       "      <td>5</td>\n",
       "      <td>5</td>\n",
       "      <td>2000</td>\n",
       "    </tr>\n",
       "    <tr>\n",
       "      <td>7</td>\n",
       "      <td>2020-08-06</td>\n",
       "      <td>5</td>\n",
       "      <td>4</td>\n",
       "      <td>2</td>\n",
       "      <td>1000</td>\n",
       "    </tr>\n",
       "    <tr>\n",
       "      <td>8</td>\n",
       "      <td>2020-08-06</td>\n",
       "      <td>1</td>\n",
       "      <td>5</td>\n",
       "      <td>10</td>\n",
       "      <td>4000</td>\n",
       "    </tr>\n",
       "  </tbody>\n",
       "</table>\n",
       "</div>"
      ],
      "text/plain": [
       "         date  customer_id  workout_id  amount  summa\n",
       "0  2020-05-06            2           4       3   1500\n",
       "1  2020-05-06            0           0       6   1800\n",
       "2  2020-06-06            1           1       4   1400\n",
       "3  2020-06-06            3           4       8   4000\n",
       "4  2020-07-06            2           3       7   3500\n",
       "5  2020-07-06            0           2       2    700\n",
       "6  2020-08-06            1           5       5   2000\n",
       "7  2020-08-06            5           4       2   1000\n",
       "8  2020-08-06            1           5      10   4000"
      ]
     },
     "execution_count": 84,
     "metadata": {},
     "output_type": "execute_result"
    }
   ],
   "source": [
    "df"
   ]
  },
  {
   "cell_type": "code",
   "execution_count": 85,
   "metadata": {},
   "outputs": [],
   "source": [
    "data = df.groupby('customer_id').sum()"
   ]
  },
  {
   "cell_type": "code",
   "execution_count": 87,
   "metadata": {},
   "outputs": [
    {
     "data": {
      "image/png": "[encoded data removed]",
      "text/plain": [
       "<Figure size 800x480 with 1 Axes>"
      ]
     },
     "metadata": {},
     "output_type": "display_data"
    }
   ],
   "source": [
    "plt.figure(figsize=(10, 6), dpi=80)\n",
    "plt.axes([0,0,1,1], aspect = 'equal')\n",
    "Z = data['summa']\n",
    "plt.pie(Z, autopct = '%1.1f%%', colors=[\"yellow\", \"pink\", \"violet\", \"aquamarine\", \"silver\", \"salmon\"],\n",
    "        labels = list(map(lambda i: Customer.items[i], data.index)))\n",
    "plt.legend(loc='lower left')\n",
    "plt.show()"
   ]
  },
  {
   "cell_type": "code",
   "execution_count": 67,
   "metadata": {},
   "outputs": [],
   "source": [
    "#Посмотрим популярность направлений\n",
    "data = df.groupby('workout_id').sum()"
   ]
  },
  {
   "cell_type": "code",
   "execution_count": 68,
   "metadata": {},
   "outputs": [
    {
     "data": {
      "image/png": "[encoded data removed]",
      "text/plain": [
       "<Figure size 1200x640 with 1 Axes>"
      ]
     },
     "metadata": {
      "needs_background": "light"
     },
     "output_type": "display_data"
    }
   ],
   "source": [
    "plt.figure(figsize=(15, 8), dpi=80)\n",
    "X = np.arange(len(data))\n",
    "Y1 = data['summa']\n",
    "plt.bar(X, Y1, facecolor='#9999ff', tick_label = [stretching, yoga, pilates, fly_yoga, trx, function])\n",
    "\n",
    "\n",
    "plt.show()"
   ]
  },
  {
   "cell_type": "markdown",
   "metadata": {},
   "source": [
    "Самые популярные направления - тренирвки с петлями TRX и функциональные тренировки на активное жиросжигание"
   ]
  },
  {
   "cell_type": "code",
   "execution_count": 69,
   "metadata": {},
   "outputs": [
    {
     "data": {
      "text/html": [
       "<div>\n",
       "<style scoped>\n",
       "    .dataframe tbody tr th:only-of-type {\n",
       "        vertical-align: middle;\n",
       "    }\n",
       "\n",
       "    .dataframe tbody tr th {\n",
       "        vertical-align: top;\n",
       "    }\n",
       "\n",
       "    .dataframe thead th {\n",
       "        text-align: right;\n",
       "    }\n",
       "</style>\n",
       "<table border=\"1\" class=\"dataframe\">\n",
       "  <thead>\n",
       "    <tr style=\"text-align: right;\">\n",
       "      <th></th>\n",
       "      <th>date</th>\n",
       "      <th>manager_id</th>\n",
       "      <th>workout_id</th>\n",
       "      <th>amount</th>\n",
       "      <th>summa</th>\n",
       "    </tr>\n",
       "  </thead>\n",
       "  <tbody>\n",
       "    <tr>\n",
       "      <td>0</td>\n",
       "      <td>2020-05-06</td>\n",
       "      <td>0</td>\n",
       "      <td>4</td>\n",
       "      <td>3</td>\n",
       "      <td>1500</td>\n",
       "    </tr>\n",
       "    <tr>\n",
       "      <td>1</td>\n",
       "      <td>2020-05-06</td>\n",
       "      <td>0</td>\n",
       "      <td>0</td>\n",
       "      <td>6</td>\n",
       "      <td>1800</td>\n",
       "    </tr>\n",
       "    <tr>\n",
       "      <td>2</td>\n",
       "      <td>2020-06-06</td>\n",
       "      <td>0</td>\n",
       "      <td>1</td>\n",
       "      <td>4</td>\n",
       "      <td>1400</td>\n",
       "    </tr>\n",
       "    <tr>\n",
       "      <td>3</td>\n",
       "      <td>2020-06-06</td>\n",
       "      <td>1</td>\n",
       "      <td>4</td>\n",
       "      <td>8</td>\n",
       "      <td>4000</td>\n",
       "    </tr>\n",
       "    <tr>\n",
       "      <td>4</td>\n",
       "      <td>2020-07-06</td>\n",
       "      <td>1</td>\n",
       "      <td>3</td>\n",
       "      <td>7</td>\n",
       "      <td>3500</td>\n",
       "    </tr>\n",
       "    <tr>\n",
       "      <td>5</td>\n",
       "      <td>2020-07-06</td>\n",
       "      <td>1</td>\n",
       "      <td>2</td>\n",
       "      <td>2</td>\n",
       "      <td>700</td>\n",
       "    </tr>\n",
       "    <tr>\n",
       "      <td>6</td>\n",
       "      <td>2020-08-06</td>\n",
       "      <td>0</td>\n",
       "      <td>5</td>\n",
       "      <td>5</td>\n",
       "      <td>2000</td>\n",
       "    </tr>\n",
       "    <tr>\n",
       "      <td>7</td>\n",
       "      <td>2020-08-06</td>\n",
       "      <td>0</td>\n",
       "      <td>4</td>\n",
       "      <td>2</td>\n",
       "      <td>1000</td>\n",
       "    </tr>\n",
       "    <tr>\n",
       "      <td>8</td>\n",
       "      <td>2020-08-06</td>\n",
       "      <td>0</td>\n",
       "      <td>5</td>\n",
       "      <td>10</td>\n",
       "      <td>4000</td>\n",
       "    </tr>\n",
       "  </tbody>\n",
       "</table>\n",
       "</div>"
      ],
      "text/plain": [
       "         date  manager_id  workout_id  amount  summa\n",
       "0  2020-05-06           0           4       3   1500\n",
       "1  2020-05-06           0           0       6   1800\n",
       "2  2020-06-06           0           1       4   1400\n",
       "3  2020-06-06           1           4       8   4000\n",
       "4  2020-07-06           1           3       7   3500\n",
       "5  2020-07-06           1           2       2    700\n",
       "6  2020-08-06           0           5       5   2000\n",
       "7  2020-08-06           0           4       2   1000\n",
       "8  2020-08-06           0           5      10   4000"
      ]
     },
     "execution_count": 69,
     "metadata": {},
     "output_type": "execute_result"
    }
   ],
   "source": [
    "df = pd.read_csv('managers.txt', sep=' ', header = None)\n",
    "df.columns = [\"date\", 'manager_id', 'workout_id', 'amount', 'summa']\n",
    "df"
   ]
  },
  {
   "cell_type": "code",
   "execution_count": 70,
   "metadata": {},
   "outputs": [
    {
     "data": {
      "image/png": "[encoded data removed]",
      "text/plain": [
       "<Figure size 1440x400 with 1 Axes>"
      ]
     },
     "metadata": {},
     "output_type": "display_data"
    }
   ],
   "source": [
    "data = df.groupby('manager_id').sum()\n",
    "plt.figure(figsize=(18,5), dpi=80)\n",
    "Z = data['summa']\n",
    "plt.axes([0,0,1,1], aspect = 'equal')\n",
    "plt.pie(Z, explode=[0,.2], labels = list(map(lambda i: Manager.items[i], data.index)), \n",
    "        colors=['#99BB99','#AA5533'], \n",
    "        autopct='%1.1f%%', \n",
    "        pctdistance=0.8, \n",
    "        shadow=True,  \n",
    "        startangle=48,  \n",
    "        counterclock=True, \n",
    "        rotatelabels=True)\n",
    "plt.legend(loc='lower left')\n",
    "plt.title('Процентное соотношение выручки среди менеджеров:')\n",
    "plt.show()"
   ]
  },
  {
   "cell_type": "code",
   "execution_count": 77,
   "metadata": {},
   "outputs": [
    {
     "data": {
      "image/png": "[encoded data removed]",
      "text/plain": [
       "<Figure size 480x480 with 1 Axes>"
      ]
     },
     "metadata": {
      "needs_background": "light"
     },
     "output_type": "display_data"
    }
   ],
   "source": [
    "#Структура выручки по дням\n",
    "data = df.groupby('date').sum()\n",
    "plt.figure(figsize=(6, 6), dpi=80)\n",
    "X = np.arange(len(data))\n",
    "Y = data['summa']\n",
    "plt.bar(X, Y, facecolor='silver', tick_label = data.index)\n",
    "plt.grid(True)\n",
    "plt.show()"
   ]
  },
  {
   "cell_type": "code",
   "execution_count": null,
   "metadata": {},
   "outputs": [],
   "source": []
  }
 ],
 "metadata": {
  "kernelspec": {
   "display_name": "Python 3",
   "language": "python",
   "name": "python3"
  },
  "language_info": {
   "codemirror_mode": {
    "name": "ipython",
    "version": 3
   },
   "file_extension": ".py",
   "mimetype": "text/x-python",
   "name": "python",
   "nbconvert_exporter": "python",
   "pygments_lexer": "ipython3",
   "version": "3.7.4"
  }
 },
 "nbformat": 4,
 "nbformat_minor": 2
}
