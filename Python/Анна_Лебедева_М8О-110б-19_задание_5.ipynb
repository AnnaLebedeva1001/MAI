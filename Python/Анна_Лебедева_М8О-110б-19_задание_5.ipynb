{
 "cells": [
  {
   "cell_type": "code",
   "execution_count": 2,
   "metadata": {},
   "outputs": [
    {
     "name": "stdout",
     "output_type": "stream",
     "text": [
      "[1, 2, 3, 4, 5, 6, 7, 8, 9]\n",
      "[2, 4, 6, 8, 10, 12, 14, 16, 18]\n",
      "[3, 6, 9, 12, 15, 18, 21, 24, 27]\n",
      "[4, 8, 12, 16, 20, 24, 28, 32, 36]\n",
      "[5, 10, 15, 20, 25, 30, 35, 40, 45]\n",
      "[6, 12, 18, 24, 30, 36, 42, 48, 54]\n",
      "[7, 14, 21, 28, 35, 42, 49, 56, 63]\n",
      "[8, 16, 24, 32, 40, 48, 56, 64, 72]\n",
      "[9, 18, 27, 36, 45, 54, 63, 72, 81]\n"
     ]
    }
   ],
   "source": [
    "matrix = [[i * j for j in range(1,10)] for i in range(1, 10)]\n",
    "for row in matrix:\n",
    "    print(row)"
   ]
  },
  {
   "cell_type": "code",
   "execution_count": 4,
   "metadata": {},
   "outputs": [
    {
     "name": "stdout",
     "output_type": "stream",
     "text": [
      "[0, 1, 2, 3, 4, 5]\n",
      "[6, 7, 8, 9, 10, 11]\n",
      "[12, 13, 14, 15, 16, 17]\n",
      "[18, 19, 20, 21, 22, 23]\n",
      "[24, 25, 26, 27, 28, 29]\n"
     ]
    }
   ],
   "source": [
    "a=5\n",
    "b=6\n",
    "matrix = [[i * b + j for j in range(b)] for i in range(a)]\n",
    "for row in matrix:\n",
    "    print(row)"
   ]
  },
  {
   "cell_type": "code",
   "execution_count": 5,
   "metadata": {},
   "outputs": [
    {
     "name": "stdout",
     "output_type": "stream",
     "text": [
      "[10, 11, 12, 13, 14, 15]\n",
      "[16, 17, 18, 19, 20, 21]\n",
      "[22, 23, 24, 25, 26, 27]\n",
      "[28, 29, 30, 31, 32, 33]\n",
      "[34, 35, 36, 37, 38, 39]\n"
     ]
    }
   ],
   "source": [
    "a=5\n",
    "b=6\n",
    "matrix = [[i * b + j for j in range(10, 10 + b)] for i in range(a)]\n",
    "for row in matrix:\n",
    "    print(row)"
   ]
  },
  {
   "cell_type": "code",
   "execution_count": 7,
   "metadata": {},
   "outputs": [
    {
     "data": {
      "text/plain": [
       "['a', 'b', 'c', 'd']"
      ]
     },
     "execution_count": 7,
     "metadata": {},
     "output_type": "execute_result"
    }
   ],
   "source": [
    "values = \"abG46c6d32\"\n",
    "filtered_values=filter(lambda x: x>='a' and x<='z', values)\n",
    "list(filtered_values)"
   ]
  },
  {
   "cell_type": "code",
   "execution_count": 11,
   "metadata": {},
   "outputs": [
    {
     "name": "stdout",
     "output_type": "stream",
     "text": [
      "[{'name': 'Andrey', 'phone': 3748655}, {'name': 'Anna', 'phone': 3678284}]\n"
     ]
    }
   ],
   "source": [
    "phones = [{'name': 'Andrey', 'phone': 3748655},\n",
    "{'name': 'Anna', 'phone': 3678284},  \n",
    "{'name': 'Boris', 'phone': 4957834}] \n",
    "filtered_values=filter(lambda x: x['name'][0]=='A', phones)\n",
    "print([value for value in filtered_values])"
   ]
  },
  {
   "cell_type": "code",
   "execution_count": 13,
   "metadata": {},
   "outputs": [
    {
     "name": "stdout",
     "output_type": "stream",
     "text": [
      "[3, 4, 2]\n"
     ]
    }
   ],
   "source": [
    "values = map(len, [[1,3,4], [5,4,2,9], [0,3]])\n",
    "print(list(values))"
   ]
  },
  {
   "cell_type": "code",
   "execution_count": 14,
   "metadata": {},
   "outputs": [
    {
     "data": {
      "text/plain": [
       "['Andrey', 'Anna', 'Boris']"
      ]
     },
     "execution_count": 14,
     "metadata": {},
     "output_type": "execute_result"
    }
   ],
   "source": [
    "phones = [{'name': 'Andrey', 'phone': 3748655}, \n",
    "{'name': 'Anna', 'phone': 3678284},  \n",
    "{'name': 'Boris', 'phone': 4957834}] \n",
    "list(map(lambda i: i['name'], phones))"
   ]
  },
  {
   "cell_type": "code",
   "execution_count": 19,
   "metadata": {},
   "outputs": [
    {
     "name": "stdout",
     "output_type": "stream",
     "text": [
      "[10.816653826391969, 12.649110640673518, 6.082762530298219, 7.615773105863909]\n"
     ]
    }
   ],
   "source": [
    "from math import sqrt\n",
    "points = [(4, 6), (2, 9), (4, -2), (-5, 4)]\n",
    "pivot = (-2, -3)\n",
    "distances=(map(lambda p: sqrt((p[0]-pivot[0])**2 + (p[1]-pivot[1])**2) , points))\n",
    "print(list(distances))"
   ]
  },
  {
   "cell_type": "code",
   "execution_count": 50,
   "metadata": {},
   "outputs": [
    {
     "data": {
      "text/plain": [
       "10"
      ]
     },
     "execution_count": 50,
     "metadata": {},
     "output_type": "execute_result"
    }
   ],
   "source": [
    "import functools\n",
    "values = [1, 5, 3, 8, 10, 5]\n",
    "functools.reduce(lambda memo, x: max(memo, x), values, 0)"
   ]
  },
  {
   "cell_type": "code",
   "execution_count": 51,
   "metadata": {},
   "outputs": [
    {
     "data": {
      "text/plain": [
       "'Big brown fox jumps over a lazy dog '"
      ]
     },
     "execution_count": 51,
     "metadata": {},
     "output_type": "execute_result"
    }
   ],
   "source": [
    "words = ['Big', 'brown', 'fox', 'jumps', 'over', 'a', 'lazy', 'dog']\n",
    "functools.reduce(lambda memo, x: memo + x + \" \", words, '')"
   ]
  },
  {
   "cell_type": "code",
   "execution_count": 52,
   "metadata": {},
   "outputs": [
    {
     "name": "stdout",
     "output_type": "stream",
     "text": [
      "[0, 1, 2, 3, 4, 5]\n",
      "[1, 2, 3, 4, 5, 6]\n",
      "[2, 3, 4, 5, 6, 7]\n",
      "[3, 4, 5, 6, 7, 8]\n",
      "[4, 5, 6, 7, 8, 9]\n"
     ]
    }
   ],
   "source": [
    "#Задание №2\n",
    "matrix = [[i + j for j in range(0, 6)] for i in range(0, 5)]\n",
    "for row in matrix:\n",
    "    print(row)"
   ]
  },
  {
   "cell_type": "code",
   "execution_count": 53,
   "metadata": {},
   "outputs": [
    {
     "name": "stdout",
     "output_type": "stream",
     "text": [
      "[0, 1, 2, 3, 4]\n",
      "[1, 1, 2, 3, 4]\n",
      "[2, 2, 2, 3, 4]\n",
      "[3, 3, 3, 3, 4]\n",
      "[4, 4, 4, 4, 4]\n"
     ]
    }
   ],
   "source": [
    "#Задание №1\n",
    "n=5\n",
    "matrix = [[max(i,j) for j in range(n)] for i in range(n)]\n",
    "for row in matrix:\n",
    "    print(row)"
   ]
  },
  {
   "cell_type": "code",
   "execution_count": 54,
   "metadata": {},
   "outputs": [
    {
     "name": "stdout",
     "output_type": "stream",
     "text": [
      "[0, 1, 2, 3, 4]\n",
      "[11, 10, 9, 8, 7]\n",
      "[10, 11, 12, 13, 14]\n",
      "[21, 20, 19, 18, 17]\n",
      "[20, 21, 22, 23, 24]\n",
      "[31, 30, 29, 28, 27]\n"
     ]
    }
   ],
   "source": [
    "#Задание №3\n",
    "n=5\n",
    "m=6\n",
    "matrix = [[i*n + j if i%2==0 else i*n + m - j for j in range(n)]for i in range(m)]\n",
    "for row in matrix:\n",
    "    print(row)"
   ]
  },
  {
   "cell_type": "code",
   "execution_count": 56,
   "metadata": {},
   "outputs": [
    {
     "data": {
      "text/plain": [
       "3715891200"
      ]
     },
     "execution_count": 56,
     "metadata": {},
     "output_type": "execute_result"
    }
   ],
   "source": [
    "#Задание №4\n",
    "numbers = [2, 4, 6, 8, 10, 12, 14, 16, 18, 20]\n",
    "functools.reduce(lambda memo, x: memo*x, numbers, 1)"
   ]
  },
  {
   "cell_type": "code",
   "execution_count": 61,
   "metadata": {},
   "outputs": [
    {
     "data": {
      "text/plain": [
       "[1, 1, 2, 3, 5, 8, 13, 21, 34, 55, 89]"
      ]
     },
     "execution_count": 61,
     "metadata": {},
     "output_type": "execute_result"
    }
   ],
   "source": [
    "#Задание №5\n",
    "size=11\n",
    "functools.reduce(lambda memo, i : memo + [memo[-1] + memo[-2]], range(size-2), [1, 1]) if size>=2 else ([1]if size == 1 else [])"
   ]
  },
  {
   "cell_type": "code",
   "execution_count": null,
   "metadata": {},
   "outputs": [],
   "source": []
  }
 ],
 "metadata": {
  "kernelspec": {
   "display_name": "Python 3",
   "language": "python",
   "name": "python3"
  },
  "language_info": {
   "codemirror_mode": {
    "name": "ipython",
    "version": 3
   },
   "file_extension": ".py",
   "mimetype": "text/x-python",
   "name": "python",
   "nbconvert_exporter": "python",
   "pygments_lexer": "ipython3",
   "version": "3.7.4"
  }
 },
 "nbformat": 4,
 "nbformat_minor": 2
}
