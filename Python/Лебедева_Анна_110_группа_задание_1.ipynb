{
 "cells": [
  {
   "cell_type": "code",
   "execution_count": 30,
   "metadata": {},
   "outputs": [
    {
     "name": "stdout",
     "output_type": "stream",
     "text": [
      "1\n",
      "3\n"
     ]
    }
   ],
   "source": [
    "'''№1'''\n",
    "numbers = [234, 87, 21, 89]\n",
    "def count_even_numbers(list):\n",
    "    count_even = 0\n",
    "    for i in numbers:\n",
    "        if i%2==0:\n",
    "            count_even += 1\n",
    "    return count_even\n",
    "print(count_even_numbers(numbers))\n",
    "def count_odd_numbers(list):\n",
    "    count_odd = 0\n",
    "    for i in numbers:\n",
    "        if i%2!=0:\n",
    "            count_odd += 1\n",
    "    return count_odd\n",
    "print(count_odd_numbers(numbers))"
   ]
  },
  {
   "cell_type": "code",
   "execution_count": 10,
   "metadata": {},
   "outputs": [
    {
     "data": {
      "text/plain": [
       "5"
      ]
     },
     "execution_count": 10,
     "metadata": {},
     "output_type": "execute_result"
    }
   ],
   "source": [
    "'''№2'''\n",
    "string = \"Today is a cool day.\"\n",
    "def count_word(s):\n",
    "    s=s.replace(';',' ').replace(',',' ').replace('.',' ')\n",
    "    s=s.split()\n",
    "    count=len(s)\n",
    "    return count\n",
    "count_word(string)"
   ]
  },
  {
   "cell_type": "code",
   "execution_count": 20,
   "metadata": {},
   "outputs": [
    {
     "data": {
      "text/plain": [
       "False"
      ]
     },
     "execution_count": 20,
     "metadata": {},
     "output_type": "execute_result"
    }
   ],
   "source": [
    "'''№3'''\n",
    "year = 1700\n",
    "def leap_year(y):\n",
    "    if y%4!=0 or(y%100==0 and y%400!=0):\n",
    "        return False\n",
    "    else:\n",
    "        return True\n",
    "leap_year(year)"
   ]
  },
  {
   "cell_type": "code",
   "execution_count": 9,
   "metadata": {},
   "outputs": [
    {
     "data": {
      "text/plain": [
       "'Hello, my friend!'"
      ]
     },
     "execution_count": 9,
     "metadata": {},
     "output_type": "execute_result"
    }
   ],
   "source": [
    "'''№4'''\n",
    "string = '''Hel-\n",
    "lo,\n",
    "my\n",
    "friend!'''\n",
    "def delit_linefeeds_hyphens(s):\n",
    "    s=s.replace('-\\n','').replace('\\n',' ')\n",
    "    return s\n",
    "delit_linefeeds_hyphens(string)"
   ]
  },
  {
   "cell_type": "code",
   "execution_count": 7,
   "metadata": {},
   "outputs": [
    {
     "data": {
      "text/plain": [
       "15"
      ]
     },
     "execution_count": 7,
     "metadata": {},
     "output_type": "execute_result"
    }
   ],
   "source": [
    "'''№5'''\n",
    "number = 162.15\n",
    "def sum_of_digits(n):\n",
    "    s=0\n",
    "    n=str(n)\n",
    "    n=n.replace('.','')\n",
    "    n=int(n)\n",
    "    while(n!=0):\n",
    "        m=n%10\n",
    "        n=n//10\n",
    "        s=s+m\n",
    "    return s\n",
    "sum_of_digits(number)"
   ]
  },
  {
   "cell_type": "code",
   "execution_count": 3,
   "metadata": {},
   "outputs": [
    {
     "name": "stdout",
     "output_type": "stream",
     "text": [
      "1001\n",
      "1010\n",
      "1102\n",
      "1111\n",
      "1120\n",
      "1203\n",
      "1212\n",
      "1221\n",
      "1230\n",
      "1304\n"
     ]
    }
   ],
   "source": [
    "'''№6'''\n",
    "def sum_of_digits(n):\n",
    "    s=0\n",
    "    n=str(n)\n",
    "    n=n.replace('.','')\n",
    "    n=int(n)\n",
    "    while(n!=0):\n",
    "        m=n%10\n",
    "        n=n//10\n",
    "        s=s+m\n",
    "    return s\n",
    "def lucky_numbers(n):\n",
    "    x=1000\n",
    "    while n!=0:\n",
    "        if x<=9999:\n",
    "            if sum_of_digits(x//100)==sum_of_digits(x%100):\n",
    "                print(x)\n",
    "                n-=1\n",
    "        x=x+1\n",
    "lucky_numbers(10)"
   ]
  },
  {
   "cell_type": "code",
   "execution_count": 13,
   "metadata": {},
   "outputs": [
    {
     "name": "stdout",
     "output_type": "stream",
     "text": [
      "1\n",
      "3\n",
      "4\n"
     ]
    }
   ],
   "source": [
    "'''№7'''\n",
    "x=134\n",
    "def revers(x):\n",
    "    y=0\n",
    "    while x>0:\n",
    "        digit=x%10\n",
    "        x=x//10\n",
    "        y=y*10+digit\n",
    "    return y\n",
    "def digits(x):\n",
    "    x=revers(x)\n",
    "    while x>0:\n",
    "        n=x\n",
    "        n=x%10\n",
    "        x=x//10\n",
    "        print(n)\n",
    "digits(x)"
   ]
  },
  {
   "cell_type": "code",
   "execution_count": null,
   "metadata": {},
   "outputs": [],
   "source": []
  },
  {
   "cell_type": "code",
   "execution_count": null,
   "metadata": {},
   "outputs": [],
   "source": []
  }
 ],
 "metadata": {
  "kernelspec": {
   "display_name": "Python 3",
   "language": "python",
   "name": "python3"
  },
  "language_info": {
   "codemirror_mode": {
    "name": "ipython",
    "version": 3
   },
   "file_extension": ".py",
   "mimetype": "text/x-python",
   "name": "python",
   "nbconvert_exporter": "python",
   "pygments_lexer": "ipython3",
   "version": "3.7.4"
  }
 },
 "nbformat": 4,
 "nbformat_minor": 2
}
