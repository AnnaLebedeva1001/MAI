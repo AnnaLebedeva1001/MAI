{
 "cells": [
  {
   "cell_type": "code",
   "execution_count": 1,
   "metadata": {},
   "outputs": [
    {
     "name": "stdout",
     "output_type": "stream",
     "text": [
      "3.140592653839794\n"
     ]
    }
   ],
   "source": [
    "class Leibniz_series:\n",
    "    def __init__(self, max_value):\n",
    "        self.max=max_value\n",
    "        self.current=-1\n",
    "        \n",
    "    def __iter__(self):\n",
    "        return self\n",
    "    \n",
    "    def __next__(self):\n",
    "        self.current+=1\n",
    "        if self.current==self.max:\n",
    "            raise StopIteration\n",
    "        return (-1)**self.current/(2*self.current+1)\n",
    "\n",
    "res = 0\n",
    "for x in Leibniz_series(1000):\n",
    "    res += x\n",
    "\n",
    "print(res*4)"
   ]
  },
  {
   "cell_type": "code",
   "execution_count": 4,
   "metadata": {},
   "outputs": [
    {
     "name": "stdout",
     "output_type": "stream",
     "text": [
      "3.140807746030402\n"
     ]
    }
   ],
   "source": [
    "#Задание №1\n",
    "class Wallis_series:\n",
    "    def __init__(self, max_value):\n",
    "        self.max=max_value\n",
    "        self.current=-1\n",
    "        \n",
    "    def __iter__(self):\n",
    "        return self\n",
    "    \n",
    "    def __next__(self):\n",
    "        self.current+=1\n",
    "        if self.current==self.max:\n",
    "            raise StopIteration\n",
    "        return (2*self.current+2)**2/((2*self.current+1)*(2*self.current+3))\n",
    "\n",
    "res = 1\n",
    "for x in Wallis_series(1000):\n",
    "    res *= x\n",
    "\n",
    "print(res*2)"
   ]
  },
  {
   "cell_type": "code",
   "execution_count": 7,
   "metadata": {},
   "outputs": [
    {
     "name": "stdout",
     "output_type": "stream",
     "text": [
      "1\n",
      "2\n",
      "6\n",
      "24\n",
      "120\n",
      "720\n"
     ]
    }
   ],
   "source": [
    "#Задание №2\n",
    "def fact(n):\n",
    "    if n==1:\n",
    "        return 1\n",
    "    else:\n",
    "        return n*fact(n-1)\n",
    "\n",
    "def upto(n):\n",
    "    for i in range(1,n+1):\n",
    "        yield fact(i)\n",
    "\n",
    "f=upto(6)\n",
    "print(f.__next__())\n",
    "print(f.__next__())\n",
    "print(f.__next__())\n",
    "print(f.__next__())\n",
    "print(f.__next__())\n",
    "print(f.__next__())"
   ]
  },
  {
   "cell_type": "code",
   "execution_count": 8,
   "metadata": {},
   "outputs": [
    {
     "name": "stdout",
     "output_type": "stream",
     "text": [
      "[1, 1, 2, 3, 5, 8, 13, 21, 34, 55]\n"
     ]
    }
   ],
   "source": [
    "#Задание №3\n",
    "def fib():\n",
    "    a,b = 1,1\n",
    "    while True:\n",
    "        yield a\n",
    "        a,b = b,a+b\n",
    "\n",
    "import itertools\n",
    "\n",
    "print(list(itertools.islice(fib(), 10)))"
   ]
  },
  {
   "cell_type": "code",
   "execution_count": 2,
   "metadata": {},
   "outputs": [
    {
     "name": "stdout",
     "output_type": "stream",
     "text": [
      "[(1.0, 1.0), (-0.3333333333333333, 0.6666666666666667), (0.2, 0.8666666666666667), (-0.14285714285714285, 0.7238095238095239), (0.1111111111111111, 0.8349206349206351)]\n"
     ]
    }
   ],
   "source": [
    "#Задание №4\n",
    "\n",
    "import math \n",
    " \n",
    "def Leibniz():\n",
    "    i = 1\n",
    "    summa = 1.0\n",
    "    signum = 1\n",
    "    term = 1.0\n",
    "    while True:\n",
    "        yield term, summa\n",
    "        signum = -signum \n",
    "        term = signum / (2*i + 1)\n",
    "        summa += term\n",
    "        i += 1\n",
    "    \n",
    "import itertools\n",
    "\n",
    "print(list(itertools.islice(Leibniz(), 5)))"
   ]
  },
  {
   "cell_type": "code",
   "execution_count": null,
   "metadata": {},
   "outputs": [],
   "source": []
  }
 ],
 "metadata": {
  "kernelspec": {
   "display_name": "Python 3",
   "language": "python",
   "name": "python3"
  },
  "language_info": {
   "codemirror_mode": {
    "name": "ipython",
    "version": 3
   },
   "file_extension": ".py",
   "mimetype": "text/x-python",
   "name": "python",
   "nbconvert_exporter": "python",
   "pygments_lexer": "ipython3",
   "version": "3.7.4"
  }
 },
 "nbformat": 4,
 "nbformat_minor": 2
}
