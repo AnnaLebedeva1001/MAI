{
 "cells": [
  {
   "cell_type": "code",
   "execution_count": 1,
   "metadata": {},
   "outputs": [],
   "source": [
    "def safe_divide():\n",
    "    try:\n",
    "        print('Делимое: ', a)\n",
    "        print('Делитель: ', b)\n",
    "        print(a/b)\n",
    "    except ValueError:\n",
    "        print('Ошибка ввода: введено не число')\n",
    "    except ZeroDivisionError:\n",
    "        print('Ошибка: деление на ноль')"
   ]
  },
  {
   "cell_type": "code",
   "execution_count": 2,
   "metadata": {},
   "outputs": [
    {
     "name": "stdout",
     "output_type": "stream",
     "text": [
      "Делимое:  4\n",
      "Делитель:  2\n",
      "2.0\n"
     ]
    }
   ],
   "source": [
    "a = 4\n",
    "b = 2\n",
    "safe_divide()"
   ]
  },
  {
   "cell_type": "code",
   "execution_count": 3,
   "metadata": {},
   "outputs": [],
   "source": [
    "with open('file1.txt', 'r') as file:\n",
    "    text = file.readlines()\n",
    "\n",
    "for lines in range(0, len(text)):\n",
    "    text[lines]=text[lines].split()[::-1]\n",
    "\n",
    "with open(\"file2.txt\", \"w\") as new_file:\n",
    "    for line in text:\n",
    "        line = \" \".join(line) + \"\\n\"\n",
    "        new_file.write(line) "
   ]
  },
  {
   "cell_type": "code",
   "execution_count": 4,
   "metadata": {},
   "outputs": [
    {
     "data": {
      "text/plain": [
       "'Мой дядя самых честных правил\\nкогда не в шутку занемог'"
      ]
     },
     "execution_count": 4,
     "metadata": {},
     "output_type": "execute_result"
    }
   ],
   "source": [
    "f = open('file1.txt', 'r')\n",
    "f.read()"
   ]
  },
  {
   "cell_type": "code",
   "execution_count": 5,
   "metadata": {},
   "outputs": [
    {
     "data": {
      "text/plain": [
       "'правил честных самых дядя Мой\\nзанемог шутку в не когда\\n'"
      ]
     },
     "execution_count": 5,
     "metadata": {},
     "output_type": "execute_result"
    }
   ],
   "source": [
    "f = open('file2.txt', 'r')\n",
    "f.read()"
   ]
  },
  {
   "cell_type": "code",
   "execution_count": 6,
   "metadata": {},
   "outputs": [],
   "source": [
    "class Matrix:\n",
    "    def __init__(self, list_of_lists):\n",
    "        self.matrix = list_of_lists\n",
    "        \n",
    "    def __repr__(self):\n",
    "        return '\\n'.join('\\t'.join(map(str, row))\n",
    "                         for row in self.matrix)\n",
    "\n",
    "    def __getitem__(self, i):\n",
    "        return self.matrix[i]\n",
    "\n",
    "    def __add__(self, other):\n",
    "        other = Matrix(other)\n",
    "        result = []\n",
    "        numbers = []\n",
    "        for i in range(len(self.matrix)):\n",
    "            for j in range(len(self.matrix[0])):\n",
    "                summa = other[i][j] + self.matrix[i][j]\n",
    "                numbers.append(summa)\n",
    "                if len(numbers) == len(self.matrix):\n",
    "                    result.append(numbers)\n",
    "                    numbers = []\n",
    "        return Matrix(result)\n",
    "    \n",
    "        \n",
    "def to_number_matrix(textm):\n",
    "    m = [list(map(int,i)) for i in textm]\n",
    "    return m\n",
    "\n",
    "def transponted(m):\n",
    "    t = [[0 for i in range(len(m))]for j in range(len(m[0]))]\n",
    "    for i in range(len(m)):\n",
    "        for j in range(len(m[0])):\n",
    "            t[j][i]=m[i][j]\n",
    "    return t\n",
    "\n",
    "\n",
    "textmatrix = []\n",
    "with open('f1.txt', 'r') as file:\n",
    "    for i in file:\n",
    "        textmatrix.append(i.replace('\\n','').split(' '))\n",
    "\n",
    "try:\n",
    "    matrix=to_number_matrix(textmatrix)\n",
    "    tm = transponted(matrix)\n",
    "except ValueError:\n",
    "    print('Неверные символы')\n",
    "except IndexError:\n",
    "    print('Не согласовано')\n",
    "\n",
    "with open('f2.txt', 'w') as file:\n",
    "    file.write(Matrix(tm).__str__())"
   ]
  },
  {
   "cell_type": "code",
   "execution_count": 7,
   "metadata": {},
   "outputs": [
    {
     "data": {
      "text/plain": [
       "'1 2 3 4\\n5 6 7 8\\n9 10 11 12\\n13 14 15 16'"
      ]
     },
     "execution_count": 7,
     "metadata": {},
     "output_type": "execute_result"
    }
   ],
   "source": [
    "f = open('f1.txt', 'r')\n",
    "f.read()"
   ]
  },
  {
   "cell_type": "code",
   "execution_count": 8,
   "metadata": {},
   "outputs": [
    {
     "data": {
      "text/plain": [
       "'1\\t5\\t9\\t13\\n2\\t6\\t10\\t14\\n3\\t7\\t11\\t15\\n4\\t8\\t12\\t16'"
      ]
     },
     "execution_count": 8,
     "metadata": {},
     "output_type": "execute_result"
    }
   ],
   "source": [
    "f = open('f2.txt', 'r')\n",
    "f.read()"
   ]
  },
  {
   "cell_type": "code",
   "execution_count": null,
   "metadata": {},
   "outputs": [],
   "source": []
  },
  {
   "cell_type": "code",
   "execution_count": null,
   "metadata": {},
   "outputs": [],
   "source": []
  }
 ],
 "metadata": {
  "kernelspec": {
   "display_name": "Python 3",
   "language": "python",
   "name": "python3"
  },
  "language_info": {
   "codemirror_mode": {
    "name": "ipython",
    "version": 3
   },
   "file_extension": ".py",
   "mimetype": "text/x-python",
   "name": "python",
   "nbconvert_exporter": "python",
   "pygments_lexer": "ipython3",
   "version": "3.7.4"
  }
 },
 "nbformat": 4,
 "nbformat_minor": 2
}
