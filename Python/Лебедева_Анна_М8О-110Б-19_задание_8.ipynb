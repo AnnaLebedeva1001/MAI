{
 "cells": [
  {
   "cell_type": "code",
   "execution_count": 90,
   "metadata": {},
   "outputs": [],
   "source": [
    "import functools\n",
    "\n",
    "class Node:\n",
    "    def __init__(self, value = None):\n",
    "        self.value = value\n",
    "        self.next = None\n",
    "        \n",
    "        \n",
    "class ListIterator:\n",
    "    def __init__(self, linked_list):\n",
    "        self.current = linked_list.head\n",
    "    def __iter__(self):\n",
    "        return self\n",
    "    def __next__(self):\n",
    "        if self.current == None:\n",
    "            raise StopIteration\n",
    "        current_value = self.current.value\n",
    "        self.current = self.current.next\n",
    "        return current_value\n",
    "    \n",
    "    \n",
    "class LinkedList:\n",
    "    def __init__(self, *values):\n",
    "        self.head = None\n",
    "        for value in values:\n",
    "            self.append_value(value)\n",
    "\n",
    "    def __str__(self):\n",
    "        if self.head != None:\n",
    "            current = self.head\n",
    "            out = 'LinkedList [ ' +str(current.value) +' '\n",
    "            while current.next != None:\n",
    "                current = current.next\n",
    "                out += str(current.value) + ' '\n",
    "            return out + ']'\n",
    "        return 'LinkedList []'\n",
    "    \n",
    "    def append_item(self,item):\n",
    "        if self.head == None:\n",
    "            self.head = item\n",
    "        else:\n",
    "            current = self.head\n",
    "            while current.next != None:\n",
    "                current = current.next\n",
    "            current.next = item\n",
    "            \n",
    "    def append_value(self, value):\n",
    "        self.append_item(Node(value))\n",
    "        \n",
    "    def prepend_item(self, item):\n",
    "        item.next = self.head\n",
    "        self.head = item\n",
    "    \n",
    "    def prepend_value(self, value):\n",
    "        self.prepend_item(Node(value))\n",
    "        \n",
    "    def insert(self, value, position):\n",
    "        if self.head == None:\n",
    "            self.head = Node(value)\n",
    "            return\n",
    "        if position == 0:\n",
    "            new_node = Node(value)\n",
    "            new_node.next = self.head\n",
    "            self.head = new_node\n",
    "            return\n",
    "        current = self.head\n",
    "        count = 0\n",
    "        while current != None:\n",
    "            count += 1\n",
    "            if count == position:\n",
    "                new_node = Node(value)\n",
    "                new_node.next = current.next\n",
    "                current.next = new_node\n",
    "                return\n",
    "            current = current.next\n",
    "            \n",
    "    def remove(self, position):\n",
    "            if self.head == None:\n",
    "                return\n",
    "            if position == 0:\n",
    "                self.head = self.head.next\n",
    "                return\n",
    "            current = self.head\n",
    "            count = 1\n",
    "            while current != None:\n",
    "                previous = current  \n",
    "                current = current.next\n",
    "                if count == position:\n",
    "                    previous.next = current.next \n",
    "                    return\n",
    "                count += 1\n",
    "                \n",
    "    def items(self):\n",
    "        return ListIterator(self)\n",
    "    \n",
    "    def find(self, value):\n",
    "        if self.head == None:\n",
    "            return None\n",
    "        current = self.head\n",
    "        count = 0\n",
    "        while current != None:\n",
    "            if current.value == value:\n",
    "                return count\n",
    "            current = current.next\n",
    "            count += 1\n",
    "        return None"
   ]
  },
  {
   "cell_type": "code",
   "execution_count": 135,
   "metadata": {},
   "outputs": [],
   "source": [
    "#Задание №1\n",
    "class Queue:\n",
    "    def __init__(self):\n",
    "        self.list = LinkedList()\n",
    "        \n",
    "    def __str__(self):\n",
    "        ret = 'Queue [ '\n",
    "        for item in self.list.items():\n",
    "            ret += str(item) + ' '\n",
    "        ret += '] '\n",
    "        return ret\n",
    "\n",
    "    def is_empty(self):\n",
    "        return self.list.head == None\n",
    "\n",
    "    def enqueue(self, item):\n",
    "        self.list.append_value(item)\n",
    "        \n",
    "    def length(self):\n",
    "        return sum(1 for x in self.list.items())\n",
    "\n",
    "    def dequeue(self):\n",
    "        if self.list.head is None:\n",
    "            return None\n",
    "        else:\n",
    "            ret = self.list.head.value\n",
    "            self.list.remove(0)\n",
    "            return ret\n",
    "    \n",
    "    def top(self): \n",
    "        if self.list.head is None:\n",
    "            return None\n",
    "        else:\n",
    "            return self.list.head.value"
   ]
  },
  {
   "cell_type": "code",
   "execution_count": 143,
   "metadata": {},
   "outputs": [
    {
     "name": "stdout",
     "output_type": "stream",
     "text": [
      "Queue [ ] \n"
     ]
    }
   ],
   "source": [
    "q1=Queue()\n",
    "print(q1)"
   ]
  },
  {
   "cell_type": "code",
   "execution_count": 144,
   "metadata": {
    "scrolled": false
   },
   "outputs": [
    {
     "name": "stdout",
     "output_type": "stream",
     "text": [
      "Queue [ 2 3 15 ] \n"
     ]
    }
   ],
   "source": [
    "q1.enqueue(2)\n",
    "q1.enqueue(3)\n",
    "q1.enqueue(15)\n",
    "print(q1)"
   ]
  },
  {
   "cell_type": "code",
   "execution_count": 145,
   "metadata": {},
   "outputs": [
    {
     "data": {
      "text/plain": [
       "2"
      ]
     },
     "execution_count": 145,
     "metadata": {},
     "output_type": "execute_result"
    }
   ],
   "source": [
    "q1.top()"
   ]
  },
  {
   "cell_type": "code",
   "execution_count": 146,
   "metadata": {},
   "outputs": [
    {
     "data": {
      "text/plain": [
       "False"
      ]
     },
     "execution_count": 146,
     "metadata": {},
     "output_type": "execute_result"
    }
   ],
   "source": [
    "q1.is_empty()"
   ]
  },
  {
   "cell_type": "code",
   "execution_count": 147,
   "metadata": {},
   "outputs": [
    {
     "data": {
      "text/plain": [
       "3"
      ]
     },
     "execution_count": 147,
     "metadata": {},
     "output_type": "execute_result"
    }
   ],
   "source": [
    "q1.length()"
   ]
  },
  {
   "cell_type": "code",
   "execution_count": 148,
   "metadata": {},
   "outputs": [
    {
     "data": {
      "text/plain": [
       "2"
      ]
     },
     "execution_count": 148,
     "metadata": {},
     "output_type": "execute_result"
    }
   ],
   "source": [
    "q1.dequeue()"
   ]
  },
  {
   "cell_type": "code",
   "execution_count": 149,
   "metadata": {},
   "outputs": [
    {
     "name": "stdout",
     "output_type": "stream",
     "text": [
      "Queue [ 3 15 ] \n"
     ]
    }
   ],
   "source": [
    "print(q1)"
   ]
  },
  {
   "cell_type": "code",
   "execution_count": 150,
   "metadata": {},
   "outputs": [
    {
     "data": {
      "text/plain": [
       "3"
      ]
     },
     "execution_count": 150,
     "metadata": {},
     "output_type": "execute_result"
    }
   ],
   "source": [
    "q1.dequeue()"
   ]
  },
  {
   "cell_type": "code",
   "execution_count": 151,
   "metadata": {},
   "outputs": [
    {
     "name": "stdout",
     "output_type": "stream",
     "text": [
      "Queue [ 15 ] \n"
     ]
    }
   ],
   "source": [
    "print(q1)"
   ]
  },
  {
   "cell_type": "code",
   "execution_count": 152,
   "metadata": {},
   "outputs": [
    {
     "data": {
      "text/plain": [
       "15"
      ]
     },
     "execution_count": 152,
     "metadata": {},
     "output_type": "execute_result"
    }
   ],
   "source": [
    "q1.dequeue()"
   ]
  },
  {
   "cell_type": "code",
   "execution_count": 153,
   "metadata": {},
   "outputs": [
    {
     "name": "stdout",
     "output_type": "stream",
     "text": [
      "Queue [ ] \n"
     ]
    }
   ],
   "source": [
    "print(q1)"
   ]
  },
  {
   "cell_type": "code",
   "execution_count": 154,
   "metadata": {},
   "outputs": [
    {
     "data": {
      "text/plain": [
       "True"
      ]
     },
     "execution_count": 154,
     "metadata": {},
     "output_type": "execute_result"
    }
   ],
   "source": [
    "q1.is_empty()"
   ]
  },
  {
   "cell_type": "code",
   "execution_count": 3,
   "metadata": {},
   "outputs": [],
   "source": [
    "#Задание №2\n",
    "class TreeNode:\n",
    "    def __init__(self, value = None):\n",
    "        self.value = value\n",
    "        self.left = None\n",
    "        self.right = None\n",
    "    \n",
    "def preorder(node):\n",
    "    print (node.value)\n",
    "    if node.left != None:\n",
    "        preorder(node.left)\n",
    "    if node.right != None:\n",
    "        preorder(node.right)\n",
    "    \n",
    "    \n",
    "def inorder(node):\n",
    "    if node.left != None:\n",
    "        inorder(node.left)\n",
    "    print (node.value)\n",
    "    if node.right != None:\n",
    "        inorder(node.right)\n",
    "    \n",
    "    \n",
    "def postorder(node):\n",
    "    if node.left != None:\n",
    "        postorder(node.left)\n",
    "    if node.right != None:\n",
    "        postorder(node.right)\n",
    "    print (node.value)\n",
    "    \n",
    "    \n",
    "def print_tree(root, depth = 0):\n",
    "    if root.left:\n",
    "        print_tree(root.left, depth + 1)\n",
    "    print( \"  \" * depth + str(root.value) )\n",
    "    if root.right:\n",
    "        print_tree(root.right, depth + 1)\n"
   ]
  },
  {
   "cell_type": "code",
   "execution_count": 31,
   "metadata": {},
   "outputs": [],
   "source": [
    "def mirror(root, depth = 0):\n",
    "    if root.left:\n",
    "        mirror(root.right, depth + 1)\n",
    "    print( \"  \" * depth + str(root.value) )\n",
    "    if root.right:\n",
    "        mirror(root.left, depth + 1)"
   ]
  },
  {
   "cell_type": "code",
   "execution_count": 32,
   "metadata": {},
   "outputs": [
    {
     "name": "stdout",
     "output_type": "stream",
     "text": [
      "    D\n",
      "  B\n",
      "    E\n",
      "A\n",
      "    F\n",
      "  C\n",
      "    G\n"
     ]
    }
   ],
   "source": [
    "A = TreeNode(\"A\")\n",
    "B = TreeNode(\"B\")\n",
    "C = TreeNode(\"C\")\n",
    "D = TreeNode(\"D\")\n",
    "E = TreeNode(\"E\")\n",
    "F = TreeNode(\"F\")\n",
    "G = TreeNode(\"G\")\n",
    "A.left = B\n",
    "A.right = C\n",
    "B.left = D\n",
    "B.right = E\n",
    "C.left = F\n",
    "C.right = G\n",
    "\n",
    "print_tree(A)"
   ]
  },
  {
   "cell_type": "code",
   "execution_count": 33,
   "metadata": {},
   "outputs": [
    {
     "name": "stdout",
     "output_type": "stream",
     "text": [
      "    G\n",
      "  C\n",
      "    F\n",
      "A\n",
      "    E\n",
      "  B\n",
      "    D\n"
     ]
    }
   ],
   "source": [
    "mirror(A)"
   ]
  },
  {
   "cell_type": "code",
   "execution_count": null,
   "metadata": {},
   "outputs": [],
   "source": []
  },
  {
   "cell_type": "code",
   "execution_count": null,
   "metadata": {},
   "outputs": [],
   "source": []
  }
 ],
 "metadata": {
  "kernelspec": {
   "display_name": "Python 3",
   "language": "python",
   "name": "python3"
  },
  "language_info": {
   "codemirror_mode": {
    "name": "ipython",
    "version": 3
   },
   "file_extension": ".py",
   "mimetype": "text/x-python",
   "name": "python",
   "nbconvert_exporter": "python",
   "pygments_lexer": "ipython3",
   "version": "3.7.4"
  }
 },
 "nbformat": 4,
 "nbformat_minor": 2
}
