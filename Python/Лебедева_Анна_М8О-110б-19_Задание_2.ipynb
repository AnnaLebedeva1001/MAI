{
 "cells": [
  {
   "cell_type": "code",
   "execution_count": 3,
   "metadata": {},
   "outputs": [],
   "source": [
    "class Shape:\n",
    "    'Фигура на плоскости - прямоугольник, треугольник, окружность'\n",
    "    color='green'\n",
    "    \n",
    "    def get_color(self):\n",
    "        return self.color"
   ]
  },
  {
   "cell_type": "code",
   "execution_count": 13,
   "metadata": {},
   "outputs": [],
   "source": [
    "import math\n",
    "import matplotlib.pyplot as plt\n",
    "import matplotlib.patches as mpatches\n",
    "\n",
    "class Triangle(Shape):\n",
    "\n",
    "    def __init__(self,x1=1,y1=1,x2=1,y2=1,x3=1,y3=1,color=None):\n",
    "        self.x1=x1\n",
    "        self.y1=y1\n",
    "        self.x2=x2\n",
    "        self.y2=y2\n",
    "        self.x3=x3\n",
    "        self.y3=y3\n",
    "        if color is not None:\n",
    "            self.color = color\n",
    "    def square(self):\n",
    "        return math.fabs((self.x2-self.x1)*(self.y3-self.y1)-(self.x3-self.x1)*(self.y2-self.y1))/2\n",
    "    \n",
    "    def draw(self):\n",
    "        fig, ax = plt.subplots()\n",
    "        tri = mpatches.Polygon([(self.x1,self.y1), (self.x2,self.y2), (self.x3,self.y3)], color=self.color)\n",
    "        ax.add_patch(tri)\n",
    "        plt.xlim(-1, 10);\n",
    "        plt.ylim(-1, 10);\n",
    "        plt.show()"
   ]
  },
  {
   "cell_type": "code",
   "execution_count": 24,
   "metadata": {},
   "outputs": [
    {
     "data": {
      "image/png": "[encoded data removed]",
      "text/plain": [
       "<Figure size 432x288 with 1 Axes>"
      ]
     },
     "metadata": {
      "needs_background": "light"
     },
     "output_type": "display_data"
    }
   ],
   "source": [
    "Triangle(1,1,9,9,9,1, 'silver').draw()"
   ]
  },
  {
   "cell_type": "code",
   "execution_count": 17,
   "metadata": {},
   "outputs": [
    {
     "data": {
      "text/plain": [
       "32.0"
      ]
     },
     "execution_count": 17,
     "metadata": {},
     "output_type": "execute_result"
    }
   ],
   "source": [
    "x=Triangle(1,1,9,9,9,1)\n",
    "x.square()"
   ]
  },
  {
   "cell_type": "code",
   "execution_count": null,
   "metadata": {},
   "outputs": [],
   "source": []
  },
  {
   "cell_type": "code",
   "execution_count": null,
   "metadata": {},
   "outputs": [],
   "source": []
  }
 ],
 "metadata": {
  "kernelspec": {
   "display_name": "Python 3",
   "language": "python",
   "name": "python3"
  },
  "language_info": {
   "codemirror_mode": {
    "name": "ipython",
    "version": 3
   },
   "file_extension": ".py",
   "mimetype": "text/x-python",
   "name": "python",
   "nbconvert_exporter": "python",
   "pygments_lexer": "ipython3",
   "version": "3.7.4"
  }
 },
 "nbformat": 4,
 "nbformat_minor": 2
}
