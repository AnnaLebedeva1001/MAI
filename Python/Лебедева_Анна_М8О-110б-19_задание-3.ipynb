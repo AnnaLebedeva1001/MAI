{
 "cells": [
  {
   "cell_type": "code",
   "execution_count": 30,
   "metadata": {},
   "outputs": [],
   "source": [
    "class Matrix:\n",
    "    def __init__(self, list_of_lists):\n",
    "        self.matrix = list_of_lists\n",
    "        \n",
    "    def __repr__(self):\n",
    "        return '\\n'.join('\\t'.join(map(str, row))\n",
    "                         for row in self.matrix)\n",
    "\n",
    "    def __getitem__(self, i):\n",
    "        return self.matrix[i]\n",
    "\n",
    "    def __add__(self, other):\n",
    "        other = Matrix(other)\n",
    "        result = []\n",
    "        numbers = []\n",
    "        for i in range(len(self.matrix)):\n",
    "            for j in range(len(self.matrix[0])):\n",
    "                summa = other[i][j] + self.matrix[i][j]\n",
    "                numbers.append(summa)\n",
    "                if len(numbers) == len(self.matrix):\n",
    "                    result.append(numbers)\n",
    "                    numbers = []\n",
    "        return Matrix(result)"
   ]
  },
  {
   "cell_type": "code",
   "execution_count": 34,
   "metadata": {},
   "outputs": [
    {
     "data": {
      "text/plain": [
       "7\t9\t1\n",
       "4\t2\t5\n",
       "6\t8\t0"
      ]
     },
     "execution_count": 34,
     "metadata": {},
     "output_type": "execute_result"
    }
   ],
   "source": [
    "m = Matrix([[7,9,1], [4,2,5], [6,8,0]])\n",
    "m"
   ]
  },
  {
   "cell_type": "code",
   "execution_count": 35,
   "metadata": {},
   "outputs": [
    {
     "data": {
      "text/plain": [
       "1\t2\t3\n",
       "1\t2\t3\n",
       "1\t2\t3"
      ]
     },
     "execution_count": 35,
     "metadata": {},
     "output_type": "execute_result"
    }
   ],
   "source": [
    "n = Matrix([[1,2,3], [1,2,3], [1,2,3]])\n",
    "n"
   ]
  },
  {
   "cell_type": "code",
   "execution_count": 36,
   "metadata": {},
   "outputs": [
    {
     "data": {
      "text/plain": [
       "8\t11\t4\n",
       "5\t4\t8\n",
       "7\t10\t3"
      ]
     },
     "execution_count": 36,
     "metadata": {},
     "output_type": "execute_result"
    }
   ],
   "source": [
    "m+n"
   ]
  },
  {
   "cell_type": "code",
   "execution_count": 1,
   "metadata": {},
   "outputs": [],
   "source": [
    "class Shape:\n",
    "    'Фигура на плоскости - пряоугольник, треугольник, окружность'\n",
    "    color='green'\n",
    "    shape=[]\n",
    "    \n",
    "    def get_color(self):\n",
    "        return self.color\n",
    "    \n",
    "    def __init__(self):\n",
    "        self.Rectangle = Rectangle\n",
    "        self.Triangle = Triangle\n",
    "        self.Circle = Circle\n",
    "        self.shape.append(self)"
   ]
  },
  {
   "cell_type": "code",
   "execution_count": 2,
   "metadata": {},
   "outputs": [],
   "source": [
    "import matplotlib.pyplot as plt\n",
    "import matplotlib.patches as mpatches\n",
    "\n",
    "class Circle(Shape):\n",
    "    \n",
    "    def __init__(self,x,y,radius, color=None):\n",
    "        self.x=x\n",
    "        self.y=y\n",
    "        self.radius=radius\n",
    "        if color is not None:\n",
    "            self.color = color\n",
    "    \n",
    "    def square(self):\n",
    "        return pi*self.r**2\n",
    "    \n",
    "    def draw(self):\n",
    "        fig, ax = plt.subplots()\n",
    "        rect = mpatches.Circle((self.x,self.y), radius=self.radius, color=self.color)\n",
    "        ax.add_patch(circle)\n",
    "        plt.xlim(-1, 5);\n",
    "        plt.ylim(-1, 5);\n",
    "        plt.show()"
   ]
  },
  {
   "cell_type": "code",
   "execution_count": 3,
   "metadata": {},
   "outputs": [],
   "source": [
    "c = Circle(1, 1, 2, 'red')"
   ]
  },
  {
   "cell_type": "code",
   "execution_count": null,
   "metadata": {},
   "outputs": [],
   "source": []
  }
 ],
 "metadata": {
  "kernelspec": {
   "display_name": "Python 3",
   "language": "python",
   "name": "python3"
  },
  "language_info": {
   "codemirror_mode": {
    "name": "ipython",
    "version": 3
   },
   "file_extension": ".py",
   "mimetype": "text/x-python",
   "name": "python",
   "nbconvert_exporter": "python",
   "pygments_lexer": "ipython3",
   "version": "3.7.4"
  }
 },
 "nbformat": 4,
 "nbformat_minor": 2
}
