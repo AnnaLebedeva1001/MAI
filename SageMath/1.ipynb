{
 "cells": [
  {
   "cell_type": "markdown",
   "metadata": {
    "collapsed": false
   },
   "source": [
    "<h2 style='color: black'>Исследование графиков</h2>"
   ]
  },
  {
   "cell_type": "markdown",
   "metadata": {
    "collapsed": false
   },
   "source": [
    "<h2 style='color: black'>Заданная формула функции</h2>"
   ]
  },
  {
   "cell_type": "code",
   "execution_count": 1,
   "metadata": {
    "collapsed": false
   },
   "outputs": [
    {
     "data": {
      "text/html": [
       "<html><script type=\"math/tex; mode=display\">\\newcommand{\\Bold}[1]{\\mathbf{#1}}\\verb|y|\\phantom{\\verb!x!}\\verb|=| {\\left(2^{\\tan\\left(2 \\, x\\right)} + \\tan\\left(2 \\, x\\right)\\right)}^{2}</script></html>"
      ],
      "text/latex": [
       "\\begin{math}\n",
       "\\newcommand{\\Bold}[1]{\\mathbf{#1}}\\verb|y|\\phantom{\\verb!x!}\\verb|=| {\\left(2^{\\tan\\left(2 \\, x\\right)} + \\tan\\left(2 \\, x\\right)\\right)}^{2}\n",
       "\\end{math}"
      ],
      "text/plain": [
       "'y = ' (2^tan(2*x) + tan(2*x))^2"
      ]
     },
     "execution_count": 1,
     "metadata": {
     },
     "output_type": "execute_result"
    }
   ],
   "source": [
    "var('x')\n",
    "y = (2^tan(2*x) + tan(2*x))^2\n",
    "show(\"y = \", y)"
   ]
  },
  {
   "cell_type": "markdown",
   "metadata": {
    "collapsed": false
   },
   "source": [
    "<h2 style='color: black'>Область определения</h2>"
   ]
  },
  {
   "cell_type": "code",
   "execution_count": 2,
   "metadata": {
    "collapsed": false
   },
   "outputs": [
    {
     "data": {
      "text/html": [
       "<html><script type=\"math/tex; mode=display\">\\newcommand{\\Bold}[1]{\\mathbf{#1}}\\left(-\\frac{1}{2} \\, \\pi, \\frac{1}{2} \\, \\pi\\right)</script></html>"
      ],
      "text/latex": [
       "\\begin{math}\n",
       "\\newcommand{\\Bold}[1]{\\mathbf{#1}}\\left(-\\frac{1}{2} \\, \\pi, \\frac{1}{2} \\, \\pi\\right)\n",
       "\\end{math}"
      ],
      "text/plain": [
       "(-1/2*pi, 1/2*pi)"
      ]
     },
     "execution_count": 2,
     "metadata": {
     },
     "output_type": "execute_result"
    }
   ],
   "source": [
    "D = (-pi/2, pi/2)\n",
    "show(D)"
   ]
  },
  {
   "cell_type": "markdown",
   "metadata": {
    "collapsed": false
   },
   "source": [
    "<h2 style='color: black'>Четность/нечетность</h2>"
   ]
  },
  {
   "cell_type": "code",
   "execution_count": 3,
   "metadata": {
    "collapsed": false
   },
   "outputs": [
    {
     "data": {
      "text/html": [
       "<html><script type=\"math/tex; mode=display\">\\newcommand{\\Bold}[1]{\\mathbf{#1}}\\verb|Функция|\\phantom{\\verb!x!}\\verb|не|\\phantom{\\verb!x!}\\verb|является|\\phantom{\\verb!x!}\\verb|четной|</script></html>"
      ],
      "text/latex": [
       "\\begin{math}\n",
       "\\newcommand{\\Bold}[1]{\\mathbf{#1}}\\verb|Функция|\\phantom{\\verb!x!}\\verb|не|\\phantom{\\verb!x!}\\verb|является|\\phantom{\\verb!x!}\\verb|четной|\n",
       "\\end{math}"
      ],
      "text/plain": [
       "'Функция не является четной'"
      ]
     },
     "execution_count": 3,
     "metadata": {
     },
     "output_type": "execute_result"
    },
    {
     "data": {
      "text/html": [
       "<html><script type=\"math/tex; mode=display\">\\newcommand{\\Bold}[1]{\\mathbf{#1}}\\verb|Функция|\\phantom{\\verb!x!}\\verb|не|\\phantom{\\verb!x!}\\verb|является|\\phantom{\\verb!x!}\\verb|нечетной|</script></html>"
      ],
      "text/latex": [
       "\\begin{math}\n",
       "\\newcommand{\\Bold}[1]{\\mathbf{#1}}\\verb|Функция|\\phantom{\\verb!x!}\\verb|не|\\phantom{\\verb!x!}\\verb|является|\\phantom{\\verb!x!}\\verb|нечетной|\n",
       "\\end{math}"
      ],
      "text/plain": [
       "'Функция не является нечетной'"
      ]
     },
     "execution_count": 3,
     "metadata": {
     },
     "output_type": "execute_result"
    }
   ],
   "source": [
    "if (y(-x).simplify() != y(x).simplify()):\n",
    "    show(\"Функция не является четной\")\n",
    "else:\n",
    "    show(\"Функция является четной\")\n",
    "\n",
    "if (y(-x).simplify() != -y(x).simplify()):\n",
    "    show(\"Функция не является нечетной\")\n",
    "else:\n",
    "    show(\"Функция является нечетной\")"
   ]
  },
  {
   "cell_type": "markdown",
   "metadata": {
    "collapsed": false
   },
   "source": [
    "<h2 style='color: black'>Периодичность</h2>"
   ]
  },
  {
   "cell_type": "code",
   "execution_count": 4,
   "metadata": {
    "collapsed": false
   },
   "outputs": [
    {
     "data": {
      "text/html": [
       "<html><script type=\"math/tex; mode=display\">\\newcommand{\\Bold}[1]{\\mathbf{#1}}\\verb|Функция|\\phantom{\\verb!x!}\\verb|с|\\phantom{\\verb!x!}\\verb|периодом:| \\frac{1}{2} \\, \\pi</script></html>"
      ],
      "text/latex": [
       "\\begin{math}\n",
       "\\newcommand{\\Bold}[1]{\\mathbf{#1}}\\verb|Функция|\\phantom{\\verb!x!}\\verb|с|\\phantom{\\verb!x!}\\verb|периодом:| \\frac{1}{2} \\, \\pi\n",
       "\\end{math}"
      ],
      "text/plain": [
       "'Функция с периодом: ' 1/2*pi"
      ]
     },
     "execution_count": 4,
     "metadata": {
     },
     "output_type": "execute_result"
    }
   ],
   "source": [
    "T = pi/2\n",
    "show(\"Функция с периодом: \", T)"
   ]
  },
  {
   "cell_type": "markdown",
   "metadata": {
    "collapsed": false
   },
   "source": [
    "<h2 style='color: black;'>Точки пересечения функции с осями координат</h2>"
   ]
  },
  {
   "cell_type": "code",
   "execution_count": 5,
   "metadata": {
    "collapsed": false
   },
   "outputs": [
    {
     "data": {
      "text/html": [
       "<html><script type=\"math/tex; mode=display\">\\newcommand{\\Bold}[1]{\\mathbf{#1}}\\verb|y(0)|\\phantom{\\verb!x!}\\verb|=| 1</script></html>"
      ],
      "text/latex": [
       "\\begin{math}\n",
       "\\newcommand{\\Bold}[1]{\\mathbf{#1}}\\verb|y(0)|\\phantom{\\verb!x!}\\verb|=| 1\n",
       "\\end{math}"
      ],
      "text/plain": [
       "'y(0) = ' 1"
      ]
     },
     "execution_count": 5,
     "metadata": {
     },
     "output_type": "execute_result"
    }
   ],
   "source": [
    "p_x = y(0)\n",
    "show(\"y(0) = \", p_x)"
   ]
  },
  {
   "cell_type": "markdown",
   "metadata": {
    "collapsed": false
   },
   "source": [
    "График пересекает ось Oy в точке (0, 1)."
   ]
  },
  {
   "cell_type": "code",
   "execution_count": 6,
   "metadata": {
    "collapsed": false
   },
   "outputs": [
    {
     "data": {
      "text/plain": [
       "-0.2850769650206669"
      ]
     },
     "execution_count": 6,
     "metadata": {
     },
     "output_type": "execute_result"
    }
   ],
   "source": [
    "xx1 = find_root((2^tan(2*x) + tan(2*x))^2 == 0, -1, 0)\n",
    "xx1"
   ]
  },
  {
   "cell_type": "markdown",
   "metadata": {
    "collapsed": false
   },
   "source": [
    "График пересекает ось Ox в точке (-0.2850769650206669, 0)."
   ]
  },
  {
   "cell_type": "markdown",
   "metadata": {
    "collapsed": false
   },
   "source": [
    "<h2 style='color: black;'>Промежутки знакопостоянства</h2>"
   ]
  },
  {
   "cell_type": "code",
   "execution_count": 7,
   "metadata": {
    "collapsed": false
   },
   "outputs": [
    {
     "data": {
      "text/html": [
       "<html><script type=\"math/tex; mode=display\">\\newcommand{\\Bold}[1]{\\mathbf{#1}}\\left(-\\infty, -0.285076965020667\\right) \\verb|⋃| \\left(-0.285076965020667, +\\infty\\right)</script></html>"
      ],
      "text/latex": [
       "\\begin{math}\n",
       "\\newcommand{\\Bold}[1]{\\mathbf{#1}}\\left(-\\infty, -0.285076965020667\\right) \\verb|⋃| \\left(-0.285076965020667, +\\infty\\right)\n",
       "\\end{math}"
      ],
      "text/plain": [
       "(-Infinity, -0.285076965020667) '⋃' (-0.285076965020667, +Infinity)"
      ]
     },
     "execution_count": 7,
     "metadata": {
     },
     "output_type": "execute_result"
    }
   ],
   "source": [
    "D = (-Infinity, -0.2850769650206669)\n",
    "R = (-0.2850769650206669, Infinity)\n",
    "show(D,\"⋃\",R)"
   ]
  },
  {
   "cell_type": "markdown",
   "metadata": {
    "collapsed": false
   },
   "source": [
    "<h2 style='color: black;'>Промежутки возрастания и убывания</h2>"
   ]
  },
  {
   "cell_type": "code",
   "execution_count": 8,
   "metadata": {
    "collapsed": false
   },
   "outputs": [
    {
     "data": {
      "text/html": [
       "<html><script type=\"math/tex; mode=display\">\\newcommand{\\Bold}[1]{\\mathbf{#1}}4 \\, {\\left({\\left(\\tan\\left(2 \\, x\\right)^{2} + 1\\right)} 2^{\\tan\\left(2 \\, x\\right)} \\log\\left(2\\right) + \\tan\\left(2 \\, x\\right)^{2} + 1\\right)} {\\left(2^{\\tan\\left(2 \\, x\\right)} + \\tan\\left(2 \\, x\\right)\\right)}</script></html>"
      ],
      "text/latex": [
       "\\begin{math}\n",
       "\\newcommand{\\Bold}[1]{\\mathbf{#1}}4 \\, {\\left({\\left(\\tan\\left(2 \\, x\\right)^{2} + 1\\right)} 2^{\\tan\\left(2 \\, x\\right)} \\log\\left(2\\right) + \\tan\\left(2 \\, x\\right)^{2} + 1\\right)} {\\left(2^{\\tan\\left(2 \\, x\\right)} + \\tan\\left(2 \\, x\\right)\\right)}\n",
       "\\end{math}"
      ],
      "text/plain": [
       "4*((tan(2*x)^2 + 1)*2^tan(2*x)*log(2) + tan(2*x)^2 + 1)*(2^tan(2*x) + tan(2*x))"
      ]
     },
     "execution_count": 8,
     "metadata": {
     },
     "output_type": "execute_result"
    }
   ],
   "source": [
    "Fd = y.derivative()\n",
    "show(Fd)"
   ]
  },
  {
   "cell_type": "markdown",
   "metadata": {
    "collapsed": false
   },
   "source": [
    "Промежутки возрастания функции пересеченные с одз"
   ]
  },
  {
   "cell_type": "code",
   "execution_count": 9,
   "metadata": {
    "collapsed": false
   },
   "outputs": [
    {
     "data": {
      "text/html": [
       "<html><script type=\"math/tex; mode=display\">\\newcommand{\\Bold}[1]{\\mathbf{#1}}\\left[\\left[-\\frac{1}{2} \\, \\pi < x, 2^{\\tan\\left(2 \\, x\\right)} + \\tan\\left(2 \\, x\\right) > 0\\right], \\left[x = -\\frac{1}{2} \\, \\pi, 1 > 0\\right]\\right]</script></html>"
      ],
      "text/latex": [
       "\\begin{math}\n",
       "\\newcommand{\\Bold}[1]{\\mathbf{#1}}\\left[\\left[-\\frac{1}{2} \\, \\pi < x, 2^{\\tan\\left(2 \\, x\\right)} + \\tan\\left(2 \\, x\\right) > 0\\right], \\left[x = -\\frac{1}{2} \\, \\pi, 1 > 0\\right]\\right]\n",
       "\\end{math}"
      ],
      "text/plain": [
       "[[-1/2*pi < x, 2^tan(2*x) + tan(2*x) > 0], [x == -1/2*pi, 1 > 0]]"
      ]
     },
     "execution_count": 9,
     "metadata": {
     },
     "output_type": "execute_result"
    }
   ],
   "source": [
    "x_0 = solve([Fd > 0, -pi/2 <= x <= pi/2], x)\n",
    "show(x_0)"
   ]
  },
  {
   "cell_type": "markdown",
   "metadata": {
    "collapsed": false
   },
   "source": [
    "Промежутков убывания функции нет"
   ]
  },
  {
   "cell_type": "code",
   "execution_count": 10,
   "metadata": {
    "collapsed": false
   },
   "outputs": [
    {
     "data": {
      "text/html": [
       "<html><script type=\"math/tex; mode=display\">\\newcommand{\\Bold}[1]{\\mathbf{#1}}\\left[\\left[-\\frac{1}{2} \\, \\pi < x, -2^{\\tan\\left(2 \\, x\\right)} - \\tan\\left(2 \\, x\\right) > 0\\right], \\left[x = -\\frac{1}{2} \\, \\pi, \\left(-1\\right) > 0\\right]\\right]</script></html>"
      ],
      "text/latex": [
       "\\begin{math}\n",
       "\\newcommand{\\Bold}[1]{\\mathbf{#1}}\\left[\\left[-\\frac{1}{2} \\, \\pi < x, -2^{\\tan\\left(2 \\, x\\right)} - \\tan\\left(2 \\, x\\right) > 0\\right], \\left[x = -\\frac{1}{2} \\, \\pi, \\left(-1\\right) > 0\\right]\\right]\n",
       "\\end{math}"
      ],
      "text/plain": [
       "[[-1/2*pi < x, -2^tan(2*x) - tan(2*x) > 0], [x == -1/2*pi, -1 > 0]]"
      ]
     },
     "execution_count": 10,
     "metadata": {
     },
     "output_type": "execute_result"
    }
   ],
   "source": [
    "x_0 = solve([Fd < 0, -pi/2 <= x <= pi/2], x)\n",
    "show(x_0)"
   ]
  },
  {
   "cell_type": "markdown",
   "metadata": {
    "collapsed": false
   },
   "source": [
    "<h2 style='color: black;'>Знаки производной функции</h2>"
   ]
  },
  {
   "cell_type": "code",
   "execution_count": 11,
   "metadata": {
    "collapsed": false
   },
   "outputs": [
    {
     "data": {
      "text/plain": [
       "-0.2850769652326084"
      ]
     },
     "execution_count": 11,
     "metadata": {
     },
     "output_type": "execute_result"
    }
   ],
   "source": [
    "find_root(Fd == 0, -pi/2, pi/2)"
   ]
  },
  {
   "cell_type": "code",
   "execution_count": 12,
   "metadata": {
    "collapsed": false
   },
   "outputs": [
    {
     "data": {
      "text/html": [
       "<html><script type=\"math/tex; mode=display\">\\newcommand{\\Bold}[1]{\\mathbf{#1}}\\phantom{\\verb!x!}\\verb|y(x)|\\phantom{\\verb!x!}\\verb|↑:|\\phantom{\\verb!x!}\\verb|x|\\phantom{\\verb!x!}\\verb|∈|\\phantom{\\verb!x!}\\verb|(-∞,-0.2850769652326084)|</script></html>"
      ],
      "text/latex": [
       "\\begin{math}\n",
       "\\newcommand{\\Bold}[1]{\\mathbf{#1}}\\phantom{\\verb!x!}\\verb|y(x)|\\phantom{\\verb!x!}\\verb|↑:|\\phantom{\\verb!x!}\\verb|x|\\phantom{\\verb!x!}\\verb|∈|\\phantom{\\verb!x!}\\verb|(-∞,-0.2850769652326084)|\n",
       "\\end{math}"
      ],
      "text/plain": [
       "' y(x) ↑: x ∈ (-∞,-0.2850769652326084)'"
      ]
     },
     "execution_count": 12,
     "metadata": {
     },
     "output_type": "execute_result"
    }
   ],
   "source": [
    "show(\" y(x) ↑: x ∈ (-∞,-0.2850769652326084)\")"
   ]
  },
  {
   "cell_type": "code",
   "execution_count": 13,
   "metadata": {
    "collapsed": false
   },
   "outputs": [
    {
     "data": {
      "text/html": [
       "<html><script type=\"math/tex; mode=display\">\\newcommand{\\Bold}[1]{\\mathbf{#1}}\\phantom{\\verb!x!}\\verb|y(x)|\\phantom{\\verb!x!}\\verb|↑:|\\phantom{\\verb!x!}\\verb|x|\\phantom{\\verb!x!}\\verb|∈|\\phantom{\\verb!x!}\\verb|(-0.2850769652326084,|\\phantom{\\verb!x!}\\verb|+∞)|</script></html>"
      ],
      "text/latex": [
       "\\begin{math}\n",
       "\\newcommand{\\Bold}[1]{\\mathbf{#1}}\\phantom{\\verb!x!}\\verb|y(x)|\\phantom{\\verb!x!}\\verb|↑:|\\phantom{\\verb!x!}\\verb|x|\\phantom{\\verb!x!}\\verb|∈|\\phantom{\\verb!x!}\\verb|(-0.2850769652326084,|\\phantom{\\verb!x!}\\verb|+∞)|\n",
       "\\end{math}"
      ],
      "text/plain": [
       "' y(x) ↑: x ∈ (-0.2850769652326084, +∞) '"
      ]
     },
     "execution_count": 13,
     "metadata": {
     },
     "output_type": "execute_result"
    }
   ],
   "source": [
    "show(\" y(x) ↑: x ∈ (-0.2850769652326084, +∞) \")"
   ]
  },
  {
   "cell_type": "markdown",
   "metadata": {
    "collapsed": false
   },
   "source": [
    "При переходе через точку x = -0.2850769652326084 функция f(x) не меняет свой характер, поэтому критических точек у функции нет"
   ]
  },
  {
   "cell_type": "markdown",
   "metadata": {
    "collapsed": false
   },
   "source": [
    "<h2 style='color: black;'>Поведение функции в окрестности «особых» точек и при больших по модулю x</h2>"
   ]
  },
  {
   "cell_type": "markdown",
   "metadata": {
    "collapsed": false
   },
   "source": [
    "Особых точек у функции нет"
   ]
  },
  {
   "cell_type": "code",
   "execution_count": 14,
   "metadata": {
    "collapsed": false
   },
   "outputs": [
    {
     "data": {
      "text/html": [
       "<html><script type=\"math/tex; mode=display\">\\newcommand{\\Bold}[1]{\\mathbf{#1}}{\\left(2^{\\tan\\left(200\\right)} + \\tan\\left(200\\right)\\right)}^{2} \\verb|;| {\\left(2^{\\tan\\left(1000\\right)} + \\tan\\left(1000\\right)\\right)}^{2} \\verb|;| {\\left(\\frac{1}{2^{\\tan\\left(200\\right)}} - \\tan\\left(200\\right)\\right)}^{2} \\verb|;| {\\left(\\frac{1}{2^{\\tan\\left(1000\\right)}} - \\tan\\left(1000\\right)\\right)}^{2}</script></html>"
      ],
      "text/latex": [
       "\\begin{math}\n",
       "\\newcommand{\\Bold}[1]{\\mathbf{#1}}{\\left(2^{\\tan\\left(200\\right)} + \\tan\\left(200\\right)\\right)}^{2} \\verb|;| {\\left(2^{\\tan\\left(1000\\right)} + \\tan\\left(1000\\right)\\right)}^{2} \\verb|;| {\\left(\\frac{1}{2^{\\tan\\left(200\\right)}} - \\tan\\left(200\\right)\\right)}^{2} \\verb|;| {\\left(\\frac{1}{2^{\\tan\\left(1000\\right)}} - \\tan\\left(1000\\right)\\right)}^{2}\n",
       "\\end{math}"
      ],
      "text/plain": [
       "(2^tan(200) + tan(200))^2 ';' (2^tan(1000) + tan(1000))^2 ';' (1/2^tan(200) - tan(200))^2 ';' (1/2^tan(1000) - tan(1000))^2"
      ]
     },
     "execution_count": 14,
     "metadata": {
     },
     "output_type": "execute_result"
    }
   ],
   "source": [
    "show(y(100), \";\", y(500), \";\", y(-100), \";\", y(-500))"
   ]
  },
  {
   "cell_type": "code",
   "execution_count": 15,
   "metadata": {
    "collapsed": false
   },
   "outputs": [
    {
     "data": {
      "text/html": [
       "<html><script type=\"math/tex; mode=display\">\\newcommand{\\Bold}[1]{\\mathbf{#1}}8 \\, {\\left({\\left(\\tan\\left(2 \\, x\\right)^{2} + 1\\right)} 2^{\\tan\\left(2 \\, x\\right)} \\log\\left(2\\right) + \\tan\\left(2 \\, x\\right)^{2} + 1\\right)}^{2} + 8 \\, {\\left({\\left(\\tan\\left(2 \\, x\\right)^{2} + 1\\right)}^{2} 2^{\\tan\\left(2 \\, x\\right)} \\log\\left(2\\right)^{2} + 2 \\, {\\left(\\tan\\left(2 \\, x\\right)^{2} + 1\\right)} 2^{\\tan\\left(2 \\, x\\right)} \\log\\left(2\\right) \\tan\\left(2 \\, x\\right) + 2 \\, {\\left(\\tan\\left(2 \\, x\\right)^{2} + 1\\right)} \\tan\\left(2 \\, x\\right)\\right)} {\\left(2^{\\tan\\left(2 \\, x\\right)} + \\tan\\left(2 \\, x\\right)\\right)}</script></html>"
      ],
      "text/latex": [
       "\\begin{math}\n",
       "\\newcommand{\\Bold}[1]{\\mathbf{#1}}8 \\, {\\left({\\left(\\tan\\left(2 \\, x\\right)^{2} + 1\\right)} 2^{\\tan\\left(2 \\, x\\right)} \\log\\left(2\\right) + \\tan\\left(2 \\, x\\right)^{2} + 1\\right)}^{2} + 8 \\, {\\left({\\left(\\tan\\left(2 \\, x\\right)^{2} + 1\\right)}^{2} 2^{\\tan\\left(2 \\, x\\right)} \\log\\left(2\\right)^{2} + 2 \\, {\\left(\\tan\\left(2 \\, x\\right)^{2} + 1\\right)} 2^{\\tan\\left(2 \\, x\\right)} \\log\\left(2\\right) \\tan\\left(2 \\, x\\right) + 2 \\, {\\left(\\tan\\left(2 \\, x\\right)^{2} + 1\\right)} \\tan\\left(2 \\, x\\right)\\right)} {\\left(2^{\\tan\\left(2 \\, x\\right)} + \\tan\\left(2 \\, x\\right)\\right)}\n",
       "\\end{math}"
      ],
      "text/plain": [
       "8*((tan(2*x)^2 + 1)*2^tan(2*x)*log(2) + tan(2*x)^2 + 1)^2 + 8*((tan(2*x)^2 + 1)^2*2^tan(2*x)*log(2)^2 + 2*(tan(2*x)^2 + 1)*2^tan(2*x)*log(2)*tan(2*x) + 2*(tan(2*x)^2 + 1)*tan(2*x))*(2^tan(2*x) + tan(2*x))"
      ]
     },
     "execution_count": 15,
     "metadata": {
     },
     "output_type": "execute_result"
    }
   ],
   "source": [
    "Fdd = Fd.derivative()\n",
    "show(Fdd)"
   ]
  },
  {
   "cell_type": "code",
   "execution_count": 16,
   "metadata": {
    "collapsed": false
   },
   "outputs": [
    {
     "data": {
      "text/html": [
       "<html><script type=\"math/tex; mode=display\">\\newcommand{\\Bold}[1]{\\mathbf{#1}}\\left[\\right]</script></html>"
      ],
      "text/latex": [
       "\\begin{math}\n",
       "\\newcommand{\\Bold}[1]{\\mathbf{#1}}\\left[\\right]\n",
       "\\end{math}"
      ],
      "text/plain": [
       "[]"
      ]
     },
     "execution_count": 16,
     "metadata": {
     },
     "output_type": "execute_result"
    }
   ],
   "source": [
    "#show(find_root(Fdd == 0, -pi/2, pi/2))\n",
    "r = solve(Fdd == 0, x)\n",
    "show(r)"
   ]
  },
  {
   "cell_type": "markdown",
   "metadata": {
    "collapsed": false
   },
   "source": [
    "Kорней нет, поэтому точек перегиба нет"
   ]
  },
  {
   "cell_type": "markdown",
   "metadata": {
    "collapsed": false
   },
   "source": [
    "<h2 style='color: black;'>Непрерывность. Наличие точек разрыва и их классификация</h2>"
   ]
  },
  {
   "cell_type": "code",
   "execution_count": 17,
   "metadata": {
    "collapsed": false
   },
   "outputs": [
    {
     "data": {
      "text/plain": [
       "1"
      ]
     },
     "execution_count": 17,
     "metadata": {
     },
     "output_type": "execute_result"
    }
   ],
   "source": [
    "lim((2^tan(2*x) + tan(2*x))^2, x = 0)"
   ]
  },
  {
   "cell_type": "markdown",
   "metadata": {
    "collapsed": false
   },
   "source": [
    "Точек разрыва не обнаружено"
   ]
  },
  {
   "cell_type": "markdown",
   "metadata": {
    "collapsed": false
   },
   "source": [
    "<h2 style='color: black;'>Асимптоты</h2>"
   ]
  },
  {
   "cell_type": "code",
   "execution_count": 18,
   "metadata": {
    "collapsed": false
   },
   "outputs": [
    {
     "data": {
      "text/html": [
       "<html><script type=\"math/tex; mode=display\">\\newcommand{\\Bold}[1]{\\mathbf{#1}}\\verb|Уравнение|\\phantom{\\verb!x!}\\verb|асимптот:|\\phantom{\\verb!x!}\\verb|y|\\phantom{\\verb!x!}\\verb|=|\\phantom{\\verb!x!}\\verb|kx|\\phantom{\\verb!x!}\\verb|+|\\phantom{\\verb!x!}\\verb|b|</script></html>"
      ],
      "text/latex": [
       "\\begin{math}\n",
       "\\newcommand{\\Bold}[1]{\\mathbf{#1}}\\verb|Уравнение|\\phantom{\\verb!x!}\\verb|асимптот:|\\phantom{\\verb!x!}\\verb|y|\\phantom{\\verb!x!}\\verb|=|\\phantom{\\verb!x!}\\verb|kx|\\phantom{\\verb!x!}\\verb|+|\\phantom{\\verb!x!}\\verb|b|\n",
       "\\end{math}"
      ],
      "text/plain": [
       "'Уравнение асимптот: y = kx + b'"
      ]
     },
     "execution_count": 18,
     "metadata": {
     },
     "output_type": "execute_result"
    },
    {
     "data": {
      "text/html": [
       "<html><script type=\"math/tex; mode=display\">\\newcommand{\\Bold}[1]{\\mathbf{#1}}\\verb|k=| 0</script></html>"
      ],
      "text/latex": [
       "\\begin{math}\n",
       "\\newcommand{\\Bold}[1]{\\mathbf{#1}}\\verb|k=| 0\n",
       "\\end{math}"
      ],
      "text/plain": [
       "'k=' 0"
      ]
     },
     "execution_count": 18,
     "metadata": {
     },
     "output_type": "execute_result"
    },
    {
     "data": {
      "text/html": [
       "<html><script type=\"math/tex; mode=display\">\\newcommand{\\Bold}[1]{\\mathbf{#1}}\\verb|b=| 0</script></html>"
      ],
      "text/latex": [
       "\\begin{math}\n",
       "\\newcommand{\\Bold}[1]{\\mathbf{#1}}\\verb|b=| 0\n",
       "\\end{math}"
      ],
      "text/plain": [
       "'b= ' 0"
      ]
     },
     "execution_count": 18,
     "metadata": {
     },
     "output_type": "execute_result"
    },
    {
     "data": {
      "text/html": [
       "<html><script type=\"math/tex; mode=display\">\\newcommand{\\Bold}[1]{\\mathbf{#1}}\\verb|Горизонтальная|\\phantom{\\verb!x!}\\verb|асимптота:|\\phantom{\\verb!x!}\\verb|y=| 0</script></html>"
      ],
      "text/latex": [
       "\\begin{math}\n",
       "\\newcommand{\\Bold}[1]{\\mathbf{#1}}\\verb|Горизонтальная|\\phantom{\\verb!x!}\\verb|асимптота:|\\phantom{\\verb!x!}\\verb|y=| 0\n",
       "\\end{math}"
      ],
      "text/plain": [
       "'Горизонтальная асимптота: y= ' 0"
      ]
     },
     "execution_count": 18,
     "metadata": {
     },
     "output_type": "execute_result"
    }
   ],
   "source": [
    "show(\"Уравнение асимптот: y = kx + b\")\n",
    "k = limit((y(x)/x), x = infinity)\n",
    "show(\"k=\", k)\n",
    "b = limit((y(x) - k*x), x = infinity)\n",
    "show(\"b= \", b)\n",
    "show(\"Горизонтальная асимптота: y= \", k*x+b)"
   ]
  },
  {
   "cell_type": "markdown",
   "metadata": {
    "collapsed": false
   },
   "source": [
    "<h2 style='color: black'>График функции</h2>"
   ]
  },
  {
   "cell_type": "code",
   "execution_count": 20,
   "metadata": {
    "collapsed": false
   },
   "outputs": [
    {
     "data": {
      "image/png": "[encoded data removed]",
      "text/plain": [
       "Graphics object consisting of 2 graphics primitives"
      ]
     },
     "execution_count": 20,
     "metadata": {
     },
     "output_type": "execute_result"
    }
   ],
   "source": [
    "y = (2^tan(2*x) + tan(2*x))^2\n",
    "plot(y, -pi/2, pi/2) + list_plot([(xx1, 0)], size=65, rgbcolor=\"red\")"
   ]
  },
  {
   "cell_type": "code",
   "execution_count": 0,
   "metadata": {
    "collapsed": false
   },
   "outputs": [
   ],
   "source": [
   ]
  }
 ],
 "metadata": {
  "kernelspec": {
   "display_name": "SageMath 9.2",
   "language": "sagemath",
   "metadata": {
    "cocalc": {
     "description": "Open-source mathematical software system",
     "priority": 10,
     "url": "https://www.sagemath.org/"
    }
   },
   "name": "sage-9.2",
   "resource_dir": "/ext/jupyter/kernels/sage-9.2"
  },
  "language_info": {
   "codemirror_mode": {
    "name": "ipython",
    "version": 3
   },
   "file_extension": ".py",
   "mimetype": "text/x-python",
   "name": "python",
   "nbconvert_exporter": "python",
   "pygments_lexer": "ipython3",
   "version": "3.8.5"
  }
 },
 "nbformat": 4,
 "nbformat_minor": 4
}