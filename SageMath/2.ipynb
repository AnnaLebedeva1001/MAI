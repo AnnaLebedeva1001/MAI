{
 "cells": [
  {
   "cell_type": "markdown",
   "metadata": {
    "collapsed": false
   },
   "source": [
    "<h1 style='color: black'>Задание №2. СЛАУ</h1>"
   ]
  },
  {
   "cell_type": "markdown",
   "metadata": {
    "collapsed": false
   },
   "source": [
    "<h2 style='color: black'>1. Решить методом Крамера</h2>"
   ]
  },
  {
   "cell_type": "code",
   "execution_count": 1,
   "metadata": {
    "collapsed": false
   },
   "outputs": [
    {
     "data": {
      "text/html": [
       "<html><script type=\"math/tex; mode=display\">\\newcommand{\\Bold}[1]{\\mathbf{#1}}\\verb|Матрица|\\phantom{\\verb!x!}\\verb|А:| \\left(\\begin{array}{rrr}\n",
       "4 & 2 & -1 \\\\\n",
       "-3 & -1 & 1 \\\\\n",
       "-1 & 4 & 5\n",
       "\\end{array}\\right)</script></html>"
      ],
      "text/latex": [
       "\\begin{math}\n",
       "\\newcommand{\\Bold}[1]{\\mathbf{#1}}\\verb|Матрица|\\phantom{\\verb!x!}\\verb|А:| \\left(\\begin{array}{rrr}\n",
       "4 & 2 & -1 \\\\\n",
       "-3 & -1 & 1 \\\\\n",
       "-1 & 4 & 5\n",
       "\\end{array}\\right)\n",
       "\\end{math}"
      ],
      "text/plain": [
       "'Матрица А: ' [ 4  2 -1]\n",
       "[-3 -1  1]\n",
       "[-1  4  5]"
      ]
     },
     "execution_count": 1,
     "metadata": {
     },
     "output_type": "execute_result"
    }
   ],
   "source": [
    "M = MatrixSpace(QQ,3)\n",
    "A = M([4, 2, -1,   -3, -1, 1,   -1, 4, 5])\n",
    "show(\"Матрица А: \", A)"
   ]
  },
  {
   "cell_type": "code",
   "execution_count": 3,
   "metadata": {
    "collapsed": false
   },
   "outputs": [
    {
     "data": {
      "text/html": [
       "<html><script type=\"math/tex; mode=display\">\\newcommand{\\Bold}[1]{\\mathbf{#1}}\\verb|B:| \\left(-1,\\,-1,\\,-8\\right)</script></html>"
      ],
      "text/latex": [
       "\\begin{math}\n",
       "\\newcommand{\\Bold}[1]{\\mathbf{#1}}\\verb|B:| \\left(-1,\\,-1,\\,-8\\right)\n",
       "\\end{math}"
      ],
      "text/plain": [
       "'B: ' (-1, -1, -8)"
      ]
     },
     "execution_count": 3,
     "metadata": {
     },
     "output_type": "execute_result"
    }
   ],
   "source": [
    "B = vector([-1, -1, -8])\n",
    "show(\"B: \", B)"
   ]
  },
  {
   "cell_type": "code",
   "execution_count": 4,
   "metadata": {
    "collapsed": false
   },
   "outputs": [
    {
     "data": {
      "text/html": [
       "<html><script type=\"math/tex; mode=display\">\\newcommand{\\Bold}[1]{\\mathbf{#1}}\\verb|Определитель|\\phantom{\\verb!x!}\\verb|А:| 5</script></html>"
      ],
      "text/latex": [
       "\\begin{math}\n",
       "\\newcommand{\\Bold}[1]{\\mathbf{#1}}\\verb|Определитель|\\phantom{\\verb!x!}\\verb|А:| 5\n",
       "\\end{math}"
      ],
      "text/plain": [
       "'Определитель А: ' 5"
      ]
     },
     "execution_count": 4,
     "metadata": {
     },
     "output_type": "execute_result"
    }
   ],
   "source": [
    "det = A.determinant()\n",
    "show(\"Определитель А: \", det)"
   ]
  },
  {
   "cell_type": "code",
   "execution_count": 5,
   "metadata": {
    "collapsed": false
   },
   "outputs": [
    {
     "data": {
      "text/html": [
       "<html><script type=\"math/tex; mode=display\">\\newcommand{\\Bold}[1]{\\mathbf{#1}}\\verb|a1:| \\left(\\begin{array}{rrr}\n",
       "-1 & 2 & -1 \\\\\n",
       "-1 & -1 & 1 \\\\\n",
       "-8 & 4 & 5\n",
       "\\end{array}\\right)</script></html>"
      ],
      "text/latex": [
       "\\begin{math}\n",
       "\\newcommand{\\Bold}[1]{\\mathbf{#1}}\\verb|a1:| \\left(\\begin{array}{rrr}\n",
       "-1 & 2 & -1 \\\\\n",
       "-1 & -1 & 1 \\\\\n",
       "-8 & 4 & 5\n",
       "\\end{array}\\right)\n",
       "\\end{math}"
      ],
      "text/plain": [
       "'a1: ' [-1  2 -1]\n",
       "[-1 -1  1]\n",
       "[-8  4  5]"
      ]
     },
     "execution_count": 5,
     "metadata": {
     },
     "output_type": "execute_result"
    },
    {
     "data": {
      "text/html": [
       "<html><script type=\"math/tex; mode=display\">\\newcommand{\\Bold}[1]{\\mathbf{#1}}\\verb|Определитель|\\phantom{\\verb!x!}\\verb|a1:| 15</script></html>"
      ],
      "text/latex": [
       "\\begin{math}\n",
       "\\newcommand{\\Bold}[1]{\\mathbf{#1}}\\verb|Определитель|\\phantom{\\verb!x!}\\verb|a1:| 15\n",
       "\\end{math}"
      ],
      "text/plain": [
       "'Определитель a1: ' 15"
      ]
     },
     "execution_count": 5,
     "metadata": {
     },
     "output_type": "execute_result"
    }
   ],
   "source": [
    "a1 = copy(A)\n",
    "a1.set_column(0, B)\n",
    "show(\"a1: \", a1)\n",
    "d1 = a1.determinant()\n",
    "show(\"Определитель a1: \", d1)"
   ]
  },
  {
   "cell_type": "code",
   "execution_count": 6,
   "metadata": {
    "collapsed": false
   },
   "outputs": [
    {
     "data": {
      "text/html": [
       "<html><script type=\"math/tex; mode=display\">\\newcommand{\\Bold}[1]{\\mathbf{#1}}\\verb|a2:| \\left(\\begin{array}{rrr}\n",
       "4 & -1 & -1 \\\\\n",
       "-3 & -1 & 1 \\\\\n",
       "-1 & -8 & 5\n",
       "\\end{array}\\right)</script></html>"
      ],
      "text/latex": [
       "\\begin{math}\n",
       "\\newcommand{\\Bold}[1]{\\mathbf{#1}}\\verb|a2:| \\left(\\begin{array}{rrr}\n",
       "4 & -1 & -1 \\\\\n",
       "-3 & -1 & 1 \\\\\n",
       "-1 & -8 & 5\n",
       "\\end{array}\\right)\n",
       "\\end{math}"
      ],
      "text/plain": [
       "'a2:' [ 4 -1 -1]\n",
       "[-3 -1  1]\n",
       "[-1 -8  5]"
      ]
     },
     "execution_count": 6,
     "metadata": {
     },
     "output_type": "execute_result"
    },
    {
     "data": {
      "text/html": [
       "<html><script type=\"math/tex; mode=display\">\\newcommand{\\Bold}[1]{\\mathbf{#1}}\\verb|Определитель|\\phantom{\\verb!x!}\\verb|а2:| -25</script></html>"
      ],
      "text/latex": [
       "\\begin{math}\n",
       "\\newcommand{\\Bold}[1]{\\mathbf{#1}}\\verb|Определитель|\\phantom{\\verb!x!}\\verb|а2:| -25\n",
       "\\end{math}"
      ],
      "text/plain": [
       "'Определитель а2: ' -25"
      ]
     },
     "execution_count": 6,
     "metadata": {
     },
     "output_type": "execute_result"
    }
   ],
   "source": [
    "a2 = copy(A)\n",
    "a2.set_column(1, B)\n",
    "show(\"a2:\", a2)\n",
    "d2 = a2.determinant()\n",
    "show(\"Определитель а2: \", d2)"
   ]
  },
  {
   "cell_type": "code",
   "execution_count": 7,
   "metadata": {
    "collapsed": false
   },
   "outputs": [
    {
     "data": {
      "text/html": [
       "<html><script type=\"math/tex; mode=display\">\\newcommand{\\Bold}[1]{\\mathbf{#1}}\\verb|a3:| \\left(\\begin{array}{rrr}\n",
       "4 & 2 & -1 \\\\\n",
       "-3 & -1 & -1 \\\\\n",
       "-1 & 4 & -8\n",
       "\\end{array}\\right)</script></html>"
      ],
      "text/latex": [
       "\\begin{math}\n",
       "\\newcommand{\\Bold}[1]{\\mathbf{#1}}\\verb|a3:| \\left(\\begin{array}{rrr}\n",
       "4 & 2 & -1 \\\\\n",
       "-3 & -1 & -1 \\\\\n",
       "-1 & 4 & -8\n",
       "\\end{array}\\right)\n",
       "\\end{math}"
      ],
      "text/plain": [
       "'a3:' [ 4  2 -1]\n",
       "[-3 -1 -1]\n",
       "[-1  4 -8]"
      ]
     },
     "execution_count": 7,
     "metadata": {
     },
     "output_type": "execute_result"
    },
    {
     "data": {
      "text/html": [
       "<html><script type=\"math/tex; mode=display\">\\newcommand{\\Bold}[1]{\\mathbf{#1}}\\verb|Определитель|\\phantom{\\verb!x!}\\verb|а3:| 15</script></html>"
      ],
      "text/latex": [
       "\\begin{math}\n",
       "\\newcommand{\\Bold}[1]{\\mathbf{#1}}\\verb|Определитель|\\phantom{\\verb!x!}\\verb|а3:| 15\n",
       "\\end{math}"
      ],
      "text/plain": [
       "'Определитель а3: ' 15"
      ]
     },
     "execution_count": 7,
     "metadata": {
     },
     "output_type": "execute_result"
    }
   ],
   "source": [
    "a3 = copy(A)\n",
    "a3.set_column(2, B)\n",
    "show(\"a3:\", a3)\n",
    "d3 = a3.determinant()\n",
    "show(\"Определитель а3: \", d3)"
   ]
  },
  {
   "cell_type": "code",
   "execution_count": 8,
   "metadata": {
    "collapsed": false
   },
   "outputs": [
    {
     "data": {
      "text/html": [
       "<html><script type=\"math/tex; mode=display\">\\newcommand{\\Bold}[1]{\\mathbf{#1}}\\verb|Ответ:|</script></html>"
      ],
      "text/latex": [
       "\\begin{math}\n",
       "\\newcommand{\\Bold}[1]{\\mathbf{#1}}\\verb|Ответ:|\n",
       "\\end{math}"
      ],
      "text/plain": [
       "'Ответ:'"
      ]
     },
     "execution_count": 8,
     "metadata": {
     },
     "output_type": "execute_result"
    },
    {
     "data": {
      "text/html": [
       "<html><script type=\"math/tex; mode=display\">\\newcommand{\\Bold}[1]{\\mathbf{#1}}\\verb|x|\\phantom{\\verb!x!}\\verb|=| \\left(3, -5, 3\\right)</script></html>"
      ],
      "text/latex": [
       "\\begin{math}\n",
       "\\newcommand{\\Bold}[1]{\\mathbf{#1}}\\verb|x|\\phantom{\\verb!x!}\\verb|=| \\left(3, -5, 3\\right)\n",
       "\\end{math}"
      ],
      "text/plain": [
       "'x = ' (3, -5, 3)"
      ]
     },
     "execution_count": 8,
     "metadata": {
     },
     "output_type": "execute_result"
    }
   ],
   "source": [
    "x1 = d1/det\n",
    "x2 = d2/det\n",
    "x3 = d3/det\n",
    "show (\"Ответ:\")\n",
    "show(\"x = \",(x1, x2, x3))"
   ]
  },
  {
   "cell_type": "markdown",
   "metadata": {
    "collapsed": false
   },
   "source": [
    "<h2 style='color: black'>2. Решить методом Гаусса и проверить на совместность</h2>"
   ]
  },
  {
   "cell_type": "code",
   "execution_count": 9,
   "metadata": {
    "collapsed": false
   },
   "outputs": [
    {
     "data": {
      "text/html": [
       "<html><script type=\"math/tex; mode=display\">\\newcommand{\\Bold}[1]{\\mathbf{#1}}\\left(\\begin{array}{rrrr}\n",
       "4 & 2 & -1 & -1 \\\\\n",
       "-3 & -1 & 1 & -1 \\\\\n",
       "-1 & 4 & 5 & -8\n",
       "\\end{array}\\right)</script></html>"
      ],
      "text/latex": [
       "\\begin{math}\n",
       "\\newcommand{\\Bold}[1]{\\mathbf{#1}}\\left(\\begin{array}{rrrr}\n",
       "4 & 2 & -1 & -1 \\\\\n",
       "-3 & -1 & 1 & -1 \\\\\n",
       "-1 & 4 & 5 & -8\n",
       "\\end{array}\\right)\n",
       "\\end{math}"
      ],
      "text/plain": [
       "[ 4  2 -1 -1]\n",
       "[-3 -1  1 -1]\n",
       "[-1  4  5 -8]"
      ]
     },
     "execution_count": 9,
     "metadata": {
     },
     "output_type": "execute_result"
    }
   ],
   "source": [
    "N = MatrixSpace(QQ, 3, 4)\n",
    "A_full = N([4, 2, -1, -1,   -3, -1, 1, -1,   -1, 4, 5, -8])\n",
    "show(A_full)"
   ]
  },
  {
   "cell_type": "code",
   "execution_count": 10,
   "metadata": {
    "collapsed": false
   },
   "outputs": [
    {
     "data": {
      "text/html": [
       "<html><script type=\"math/tex; mode=display\">\\newcommand{\\Bold}[1]{\\mathbf{#1}}\\verb|Система|\\phantom{\\verb!x!}\\verb|совместна|</script></html>"
      ],
      "text/latex": [
       "\\begin{math}\n",
       "\\newcommand{\\Bold}[1]{\\mathbf{#1}}\\verb|Система|\\phantom{\\verb!x!}\\verb|совместна|\n",
       "\\end{math}"
      ],
      "text/plain": [
       "'Система совместна'"
      ]
     },
     "execution_count": 10,
     "metadata": {
     },
     "output_type": "execute_result"
    }
   ],
   "source": [
    "r_A = A.rank()\n",
    "r_A_full = A_full.rank()\n",
    "if (r_A == r_A_full):\n",
    "    show(\"Система совместна\")\n",
    "else:\n",
    "    show(\"Система несовместна\")"
   ]
  },
  {
   "cell_type": "code",
   "execution_count": 13,
   "metadata": {
    "collapsed": false
   },
   "outputs": [
    {
     "data": {
      "text/html": [
       "<html><script type=\"math/tex; mode=display\">\\newcommand{\\Bold}[1]{\\mathbf{#1}}\\left(\\begin{array}{rrrr}\n",
       "1 & 0 & 0 & 3 \\\\\n",
       "0 & 1 & 0 & -5 \\\\\n",
       "0 & 0 & 1 & 3\n",
       "\\end{array}\\right)</script></html>"
      ],
      "text/latex": [
       "\\begin{math}\n",
       "\\newcommand{\\Bold}[1]{\\mathbf{#1}}\\left(\\begin{array}{rrrr}\n",
       "1 & 0 & 0 & 3 \\\\\n",
       "0 & 1 & 0 & -5 \\\\\n",
       "0 & 0 & 1 & 3\n",
       "\\end{array}\\right)\n",
       "\\end{math}"
      ],
      "text/plain": [
       "[ 1  0  0  3]\n",
       "[ 0  1  0 -5]\n",
       "[ 0  0  1  3]"
      ]
     },
     "execution_count": 13,
     "metadata": {
     },
     "output_type": "execute_result"
    }
   ],
   "source": [
    "x = A_full.rref()\n",
    "show(x)"
   ]
  },
  {
   "cell_type": "markdown",
   "metadata": {
    "collapsed": false
   },
   "source": [
    "Ответ:"
   ]
  }
 ],
 "metadata": {
  "kernelspec": {
   "display_name": "SageMath 9.2",
   "language": "sagemath",
   "metadata": {
    "cocalc": {
     "description": "Open-source mathematical software system",
     "priority": 10,
     "url": "https://www.sagemath.org/"
    }
   },
   "name": "sage-9.2",
   "resource_dir": "/ext/jupyter/kernels/sage-9.2"
  },
  "language_info": {
   "codemirror_mode": {
    "name": "ipython",
    "version": 3
   },
   "file_extension": ".py",
   "mimetype": "text/x-python",
   "name": "python",
   "nbconvert_exporter": "python",
   "pygments_lexer": "ipython3",
   "version": "3.8.5"
  }
 },
 "nbformat": 4,
 "nbformat_minor": 4
}