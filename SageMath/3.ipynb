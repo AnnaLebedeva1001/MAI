{
 "cells": [
  {
   "cell_type": "markdown",
   "metadata": {
    "collapsed": false
   },
   "source": [
    "<h1 style='color: black'>Задание №3. Матрицы — Матричные уравнения</h1>"
   ]
  },
  {
   "cell_type": "code",
   "execution_count": 4,
   "metadata": {
    "collapsed": false
   },
   "outputs": [
    {
     "data": {
      "text/html": [
       "<html><script type=\"math/tex; mode=display\">\\newcommand{\\Bold}[1]{\\mathbf{#1}}\\verb|Исходное|\\phantom{\\verb!x!}\\verb|матричное|\\phantom{\\verb!x!}\\verb|уравнение:|</script></html>"
      ],
      "text/latex": [
       "\\begin{math}\n",
       "\\newcommand{\\Bold}[1]{\\mathbf{#1}}\\verb|Исходное|\\phantom{\\verb!x!}\\verb|матричное|\\phantom{\\verb!x!}\\verb|уравнение:|\n",
       "\\end{math}"
      ],
      "text/plain": [
       "'Исходное матричное уравнение: '"
      ]
     },
     "execution_count": 4,
     "metadata": {
     },
     "output_type": "execute_result"
    },
    {
     "data": {
      "text/html": [
       "<html><script type=\"math/tex; mode=display\">\\newcommand{\\Bold}[1]{\\mathbf{#1}}\\verb|-3X| \\left(\\begin{array}{rrr}\n",
       "-2 & 4 & -6 \\\\\n",
       "-1 & 0 & -2 \\\\\n",
       "4 & 4 & 2\n",
       "\\end{array}\\right) \\verb|-1/4| \\left(\\begin{array}{rrr}\n",
       "2 & 8 & -9 \\\\\n",
       "-1 & 1 & 4 \\\\\n",
       "1 & 0 & 2\n",
       "\\end{array}\\right) \\verb|^2=| \\left(\\begin{array}{rrr}\n",
       "1 & 0 & -3 \\\\\n",
       "-1 & 2 & -4 \\\\\n",
       "2 & 0 & 2\n",
       "\\end{array}\\right)</script></html>"
      ],
      "text/latex": [
       "\\begin{math}\n",
       "\\newcommand{\\Bold}[1]{\\mathbf{#1}}\\verb|-3X| \\left(\\begin{array}{rrr}\n",
       "-2 & 4 & -6 \\\\\n",
       "-1 & 0 & -2 \\\\\n",
       "4 & 4 & 2\n",
       "\\end{array}\\right) \\verb|-1/4| \\left(\\begin{array}{rrr}\n",
       "2 & 8 & -9 \\\\\n",
       "-1 & 1 & 4 \\\\\n",
       "1 & 0 & 2\n",
       "\\end{array}\\right) \\verb|^2=| \\left(\\begin{array}{rrr}\n",
       "1 & 0 & -3 \\\\\n",
       "-1 & 2 & -4 \\\\\n",
       "2 & 0 & 2\n",
       "\\end{array}\\right)\n",
       "\\end{math}"
      ],
      "text/plain": [
       "'-3X' [-2  4 -6]\n",
       "[-1  0 -2]\n",
       "[ 4  4  2] '-1/4' [ 2  8 -9]\n",
       "[-1  1  4]\n",
       "[ 1  0  2] '^2=' [ 1  0 -3]\n",
       "[-1  2 -4]\n",
       "[ 2  0  2]"
      ]
     },
     "execution_count": 4,
     "metadata": {
     },
     "output_type": "execute_result"
    }
   ],
   "source": [
    "W = MatrixSpace(QQ,3)\n",
    "W1 = W([-2, 4, -6, -1, 0, -2, 4, 4, 2])\n",
    "W2 = W([2, 8, -9, -1, 1, 4, 1, 0, 2])\n",
    "W3 = W([1, 0, -3, -1, 2, -4, 2, 0, 2])\n",
    "show(\"Исходное матричное уравнение: \")\n",
    "show(\"-3X\", W1, \"-1/4\", W2,\"^2=\", W3)"
   ]
  },
  {
   "cell_type": "code",
   "execution_count": 5,
   "metadata": {
    "collapsed": false
   },
   "outputs": [
   ],
   "source": [
    "T1 = (-1/4) * (W1^2)\n",
    "T2 = (T1 - W2) / (-3)\n",
    "T3 = W3^(-1)\n",
    "result = T2 * T3"
   ]
  },
  {
   "cell_type": "code",
   "execution_count": 6,
   "metadata": {
    "collapsed": false
   },
   "outputs": [
    {
     "data": {
      "text/html": [
       "<html><script type=\"math/tex; mode=display\">\\newcommand{\\Bold}[1]{\\mathbf{#1}}\\left(\\begin{array}{rrr}\n",
       "\\frac{7}{12} & 0 & -\\frac{23}{24} \\\\\n",
       "-\\frac{1}{3} & -\\frac{1}{3} & -\\frac{5}{12} \\\\\n",
       "-\\frac{1}{3} & 1 & \\frac{2}{3}\n",
       "\\end{array}\\right)</script></html>"
      ],
      "text/latex": [
       "\\begin{math}\n",
       "\\newcommand{\\Bold}[1]{\\mathbf{#1}}\\left(\\begin{array}{rrr}\n",
       "\\frac{7}{12} & 0 & -\\frac{23}{24} \\\\\n",
       "-\\frac{1}{3} & -\\frac{1}{3} & -\\frac{5}{12} \\\\\n",
       "-\\frac{1}{3} & 1 & \\frac{2}{3}\n",
       "\\end{array}\\right)\n",
       "\\end{math}"
      ],
      "text/plain": [
       "[  7/12      0 -23/24]\n",
       "[  -1/3   -1/3  -5/12]\n",
       "[  -1/3      1    2/3]"
      ]
     },
     "execution_count": 6,
     "metadata": {
     },
     "output_type": "execute_result"
    }
   ],
   "source": [
    "show(result)"
   ]
  }
 ],
 "metadata": {
  "kernelspec": {
   "display_name": "SageMath 9.2",
   "language": "sagemath",
   "metadata": {
    "cocalc": {
     "description": "Open-source mathematical software system",
     "priority": 10,
     "url": "https://www.sagemath.org/"
    }
   },
   "name": "sage-9.2",
   "resource_dir": "/ext/jupyter/kernels/sage-9.2"
  },
  "language_info": {
   "codemirror_mode": {
    "name": "ipython",
    "version": 3
   },
   "file_extension": ".py",
   "mimetype": "text/x-python",
   "name": "python",
   "nbconvert_exporter": "python",
   "pygments_lexer": "ipython3",
   "version": "3.8.5"
  }
 },
 "nbformat": 4,
 "nbformat_minor": 4
}