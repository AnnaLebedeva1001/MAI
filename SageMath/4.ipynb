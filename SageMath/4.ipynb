{
 "cells": [
  {
   "cell_type": "markdown",
   "metadata": {
    "collapsed": false
   },
   "source": [
    "<h1 style='color: black'>Задание №3. Решение алгебр. уравнений 3й степени</h1>"
   ]
  },
  {
   "cell_type": "markdown",
   "metadata": {
    "collapsed": false
   },
   "source": [
    "Должны привести уравнение к виду:\n",
    "$$x^3 + a\\cdot x^2 + b\\cdot x + c = 0$$\n",
    "Сделать замену:\n",
    "$x = z - \\frac{a}{3}$\n",
    "Получим:\n",
    "$$z^3 + p\\cdot z + q = 0$$\n",
    "Вычисляем:\n",
    "$$u = \\left(-\\frac{q}{2} + \\left(\\frac{q^2}{4} + \\frac{p^3}{27}\\right)^{1/2}\\right)^{1/3}$$\n",
    "$$v = \\left(-\\frac{q}{2} - \\left(\\frac{q^2}{4} + \\frac{p^3}{27}\\right)^{1/2}\\right)^{1/3}$$\n",
    "\n",
    "Берем u1 (где u1 -  какое-то значение u)<br>\n",
    "v1 вычисляем из $3\\cdot u\\cdot v + p = 0$<br>\n",
    "Вычисляем $\\varepsilon = -1/2 + i\\cdot\\frac{\\sqrt{3}}{2}$\n",
    "<br><br>\n",
    "Корни z:<br>\n",
    "$z1 = u1 + v1$<br>\n",
    "$z2 = u1\\cdot \\varepsilon + v1\\cdot \\varepsilon^2$<br>\n",
    "$z3 = v1\\cdot \\varepsilon + u1\\cdot \\varepsilon^2$<br>\n",
    "<br><br>\n",
    "И далее возвращаемся к замене $x = z - \\frac{a}{3}$\n"
   ]
  },
  {
   "cell_type": "code",
   "execution_count": 2,
   "metadata": {
    "collapsed": false
   },
   "outputs": [
    {
     "data": {
      "text/html": [
       "<html><script type=\"math/tex; mode=display\">\\newcommand{\\Bold}[1]{\\mathbf{#1}}x^{3} - \\frac{1}{2} \\, x^{2} + \\frac{7}{4} \\, x - \\frac{3}{4}</script></html>"
      ],
      "text/latex": [
       "\\begin{math}\n",
       "\\newcommand{\\Bold}[1]{\\mathbf{#1}}x^{3} - \\frac{1}{2} \\, x^{2} + \\frac{7}{4} \\, x - \\frac{3}{4}\n",
       "\\end{math}"
      ],
      "text/plain": [
       "x^3 - 1/2*x^2 + 7/4*x - 3/4"
      ]
     },
     "execution_count": 2,
     "metadata": {
     },
     "output_type": "execute_result"
    },
    {
     "data": {
      "image/png": "[encoded data removed]",
      "text/plain": [
       "Graphics object consisting of 1 graphics primitive"
      ]
     },
     "execution_count": 2,
     "metadata": {
     },
     "output_type": "execute_result"
    }
   ],
   "source": [
    "poly_x = 4*x**3 - 2*x**2 +7*x - 3\n",
    "poly_x /= poly_x.coefficient(x, 3)\n",
    "show(poly_x)\n",
    "plot(poly_x, (x, -5, 3))"
   ]
  },
  {
   "cell_type": "markdown",
   "metadata": {
    "collapsed": false
   },
   "source": [
    "Сделаем замену x = z - a/3"
   ]
  },
  {
   "cell_type": "markdown",
   "metadata": {
    "collapsed": false
   },
   "source": [
    "<h1 style=\"color: red\">Внимание!</h1>\n",
    "$a$ - это коэф. при $x^2$, не при $x$<br>"
   ]
  },
  {
   "cell_type": "code",
   "execution_count": 3,
   "metadata": {
    "collapsed": false
   },
   "outputs": [
    {
     "data": {
      "text/plain": [
       "x^3 - 1/2*x^2 + 7/4*x - 3/4"
      ]
     },
     "execution_count": 3,
     "metadata": {
     },
     "output_type": "execute_result"
    }
   ],
   "source": [
    "poly_x"
   ]
  },
  {
   "cell_type": "code",
   "execution_count": 4,
   "metadata": {
    "collapsed": false
   },
   "outputs": [
    {
     "data": {
      "text/html": [
       "<html><script type=\"math/tex; mode=display\">\\newcommand{\\Bold}[1]{\\mathbf{#1}}\\verb|a|\\phantom{\\verb!x!}\\verb|=| -\\frac{1}{2}</script></html>"
      ],
      "text/latex": [
       "\\begin{math}\n",
       "\\newcommand{\\Bold}[1]{\\mathbf{#1}}\\verb|a|\\phantom{\\verb!x!}\\verb|=| -\\frac{1}{2}\n",
       "\\end{math}"
      ],
      "text/plain": [
       "'a = ' -1/2"
      ]
     },
     "execution_count": 4,
     "metadata": {
     },
     "output_type": "execute_result"
    }
   ],
   "source": [
    "a = poly_x.coefficient(x, 2)\n",
    "show(\"a = \", a)\n",
    "var(\"z\")\n",
    "poly_z = poly_x(x = z -(a/3))"
   ]
  },
  {
   "cell_type": "code",
   "execution_count": 5,
   "metadata": {
    "collapsed": false
   },
   "outputs": [
    {
     "data": {
      "text/html": [
       "<html><script type=\"math/tex; mode=display\">\\newcommand{\\Bold}[1]{\\mathbf{#1}}z^{3} + \\frac{5}{3} \\, z - \\frac{101}{216}</script></html>"
      ],
      "text/latex": [
       "\\begin{math}\n",
       "\\newcommand{\\Bold}[1]{\\mathbf{#1}}z^{3} + \\frac{5}{3} \\, z - \\frac{101}{216}\n",
       "\\end{math}"
      ],
      "text/plain": [
       "z^3 + 5/3*z - 101/216"
      ]
     },
     "execution_count": 5,
     "metadata": {
     },
     "output_type": "execute_result"
    }
   ],
   "source": [
    "poly_z = poly_z.expand().simplify()\n",
    "show(poly_z)"
   ]
  },
  {
   "cell_type": "code",
   "execution_count": 6,
   "metadata": {
    "collapsed": false
   },
   "outputs": [
    {
     "data": {
      "text/html": [
       "<html><script type=\"math/tex; mode=display\">\\newcommand{\\Bold}[1]{\\mathbf{#1}}z^{3} + \\frac{5}{3} \\, z - \\frac{101}{216}</script></html>"
      ],
      "text/latex": [
       "\\begin{math}\n",
       "\\newcommand{\\Bold}[1]{\\mathbf{#1}}z^{3} + \\frac{5}{3} \\, z - \\frac{101}{216}\n",
       "\\end{math}"
      ],
      "text/plain": [
       "z^3 + 5/3*z - 101/216"
      ]
     },
     "execution_count": 6,
     "metadata": {
     },
     "output_type": "execute_result"
    }
   ],
   "source": [
    "poly_z /= poly_z.coefficient(z, 3)\n",
    "show(poly_z)"
   ]
  },
  {
   "cell_type": "markdown",
   "metadata": {
    "collapsed": false
   },
   "source": [
    "$z^3 + p\\cdot z + q = 0$<br>\n",
    "Отсюда:<br>"
   ]
  },
  {
   "cell_type": "code",
   "execution_count": 55,
   "metadata": {
    "collapsed": false
   },
   "outputs": [
    {
     "data": {
      "text/html": [
       "<html><script type=\"math/tex; mode=display\">\\newcommand{\\Bold}[1]{\\mathbf{#1}}\\left\\{\\verb|p| : \\frac{5}{3}, \\verb|q| : -\\frac{101}{216}\\right\\}</script></html>"
      ],
      "text/plain": [
       "{'p': 5/3, 'q': -101/216}"
      ]
     },
     "execution_count": 55,
     "metadata": {
     },
     "output_type": "execute_result"
    }
   ],
   "source": [
    "pq = {'p': poly_z.coefficient(z, 1), 'q': poly_z.coefficient(z, 0)}\n",
    "show(pq)"
   ]
  },
  {
   "cell_type": "markdown",
   "metadata": {
    "collapsed": false
   },
   "source": [
    "Вычисляем:\n",
    "$$u = \\left(-\\frac{q}{2} + \\left(\\frac{q^2}{4} + \\frac{p^3}{27}\\right)^{1/2}\\right)^{1/3}$$\n",
    "$$v = \\left(-\\frac{q}{2} - \\left(\\frac{q^2}{4} + \\frac{p^3}{27}\\right)^{1/2}\\right)^{1/3}$$"
   ]
  },
  {
   "cell_type": "code",
   "execution_count": 56,
   "metadata": {
    "collapsed": false
   },
   "outputs": [
   ],
   "source": [
    "def safe_cubic_root(_in_param):\n",
    "    if _in_param.imag():\n",
    "        # sgn для комплексного числа выдаст ошибку в дальнейшем, когда будет вызван numerical_approx\n",
    "        # поэтому придется просто возводить в степень\n",
    "        return (_in_param)**(1/3)\n",
    "    else:\n",
    "        return sgn(_in_param)*(abs(_in_param)**(1/3))"
   ]
  },
  {
   "cell_type": "code",
   "execution_count": 57,
   "metadata": {
    "collapsed": false
   },
   "outputs": [
   ],
   "source": [
    "var(\"p q da\")\n",
    "# da - выносим отдельно и объявляем _после_ формул \"u\" и \"v\"\n",
    "# потому как так отлаживать удобнее\n",
    "u_pre = -q/2 + sqrt(da)\n",
    "v_pre = -q/2 - sqrt(da)\n",
    "da = q**2/4 + p**3/27"
   ]
  },
  {
   "cell_type": "code",
   "execution_count": 58,
   "metadata": {
    "collapsed": false
   },
   "outputs": [
    {
     "data": {
      "text/html": [
       "<html><script type=\"math/tex; mode=display\">\\newcommand{\\Bold}[1]{\\mathbf{#1}}\\frac{1}{27} \\, p^{3} + \\frac{1}{4} \\, q^{2}</script></html>"
      ],
      "text/plain": [
       "1/27*p^3 + 1/4*q^2"
      ]
     },
     "execution_count": 58,
     "metadata": {
     },
     "output_type": "execute_result"
    }
   ],
   "source": [
    "show(da)"
   ]
  },
  {
   "cell_type": "code",
   "execution_count": 59,
   "metadata": {
    "collapsed": false
   },
   "outputs": [
    {
     "data": {
      "text/html": [
       "<html><script type=\"math/tex; mode=display\">\\newcommand{\\Bold}[1]{\\mathbf{#1}}\\frac{521}{2304}</script></html>"
      ],
      "text/plain": [
       "521/2304"
      ]
     },
     "execution_count": 59,
     "metadata": {
     },
     "output_type": "execute_result"
    }
   ],
   "source": [
    "show(da(**pq))"
   ]
  },
  {
   "cell_type": "markdown",
   "metadata": {
    "collapsed": false
   },
   "source": [
    "Берем u1 (где u1 -  какое-то значение u)<br>"
   ]
  },
  {
   "cell_type": "code",
   "execution_count": 60,
   "metadata": {
    "collapsed": false
   },
   "outputs": [
    {
     "data": {
      "text/html": [
       "<html><script type=\"math/tex; mode=display\">\\newcommand{\\Bold}[1]{\\mathbf{#1}}\\verb|da|\\phantom{\\verb!x!}\\verb|=| \\frac{521}{2304}</script></html>"
      ],
      "text/plain": [
       "'da = ' 521/2304"
      ]
     },
     "execution_count": 60,
     "metadata": {
     },
     "output_type": "execute_result"
    },
    {
     "data": {
      "text/html": [
       "<html><script type=\"math/tex; mode=display\">\\newcommand{\\Bold}[1]{\\mathbf{#1}}\\verb|u1|\\phantom{\\verb!x!}\\verb|=| 0.8918</script></html>"
      ],
      "text/plain": [
       "'u1 = ' 0.8918"
      ]
     },
     "execution_count": 60,
     "metadata": {
     },
     "output_type": "execute_result"
    }
   ],
   "source": [
    "show(\"da = \", da(**pq))\n",
    "u1 = safe_cubic_root(u_pre(**pq, da=da(**pq)))\n",
    "show(\"u1 = \", u1.n(digits=4))"
   ]
  },
  {
   "cell_type": "code",
   "execution_count": 61,
   "metadata": {
    "collapsed": false
   },
   "outputs": [
    {
     "data": {
      "text/html": [
       "<html><script type=\"math/tex; mode=display\">\\newcommand{\\Bold}[1]{\\mathbf{#1}}\\verb|u1_2|\\phantom{\\verb!x!}\\verb|=| 0.8918</script></html>"
      ],
      "text/plain": [
       "'u1_2 = ' 0.8918"
      ]
     },
     "execution_count": 61,
     "metadata": {
     },
     "output_type": "execute_result"
    }
   ],
   "source": [
    "u1_2 = safe_cubic_root(u_pre(**pq, da=da(**pq)))\n",
    "\n",
    "show(\"u1_2 = \", u1_2.n(digits=4))"
   ]
  },
  {
   "cell_type": "markdown",
   "metadata": {
    "collapsed": false
   },
   "source": [
    "v1 вычисляем из $3\\cdot u\\cdot v + p = 0$<br>"
   ]
  },
  {
   "cell_type": "code",
   "execution_count": 62,
   "metadata": {
    "collapsed": false
   },
   "outputs": [
    {
     "data": {
      "text/html": [
       "<html><script type=\"math/tex; mode=display\">\\newcommand{\\Bold}[1]{\\mathbf{#1}}-{\\left| -\\frac{1}{48} \\, \\sqrt{521} + \\frac{101}{432} \\right|}^{\\frac{1}{3}}</script></html>"
      ],
      "text/plain": [
       "-abs(-1/48*sqrt(521) + 101/432)^(1/3)"
      ]
     },
     "execution_count": 62,
     "metadata": {
     },
     "output_type": "execute_result"
    },
    {
     "data": {
      "text/html": [
       "<html><script type=\"math/tex; mode=display\">\\newcommand{\\Bold}[1]{\\mathbf{#1}}-0.6229</script></html>"
      ],
      "text/plain": [
       "-0.6229"
      ]
     },
     "execution_count": 62,
     "metadata": {
     },
     "output_type": "execute_result"
    }
   ],
   "source": [
    "v1=safe_cubic_root(v_pre(**pq, da=da(**pq)))\n",
    "show(v1)\n",
    "show(v1.n(digits=4))"
   ]
  },
  {
   "cell_type": "code",
   "execution_count": 63,
   "metadata": {
    "collapsed": false
   },
   "outputs": [
    {
     "data": {
      "text/html": [
       "<html><script type=\"math/tex; mode=display\">\\newcommand{\\Bold}[1]{\\mathbf{#1}}0.3115 + 0.5395i</script></html>"
      ],
      "text/plain": [
       "0.3115 + 0.5395*I"
      ]
     },
     "execution_count": 63,
     "metadata": {
     },
     "output_type": "execute_result"
    }
   ],
   "source": [
    "v1_2 = v_pre(**pq, da=da(**pq))**(1/3)\n",
    "show(v1_2.n(digits=4))"
   ]
  },
  {
   "cell_type": "code",
   "execution_count": 64,
   "metadata": {
    "collapsed": false
   },
   "outputs": [
    {
     "data": {
      "text/html": [
       "<html><script type=\"math/tex; mode=display\">\\newcommand{\\Bold}[1]{\\mathbf{#1}}-\\frac{20 \\, \\left(\\frac{1}{2}\\right)^{\\frac{2}{3}}}{3 \\, {\\left(9 \\, \\sqrt{521} + 101\\right)}^{\\frac{1}{3}}}</script></html>"
      ],
      "text/plain": [
       "-20/3*(1/2)^(2/3)/(9*sqrt(521) + 101)^(1/3)"
      ]
     },
     "execution_count": 64,
     "metadata": {
     },
     "output_type": "execute_result"
    },
    {
     "data": {
      "text/html": [
       "<html><script type=\"math/tex; mode=display\">\\newcommand{\\Bold}[1]{\\mathbf{#1}}-0.6229</script></html>"
      ],
      "text/plain": [
       "-0.6229"
      ]
     },
     "execution_count": 64,
     "metadata": {
     },
     "output_type": "execute_result"
    }
   ],
   "source": [
    "def v1_func(_p, _u):\n",
    "    return -_p/(3*_u)\n",
    "\n",
    "\n",
    "v1 = v1_func(_p=pq['p'], _u=u1_2)\n",
    "show(v1)\n",
    "show(v1.n(digits=4))"
   ]
  },
  {
   "cell_type": "markdown",
   "metadata": {
    "collapsed": false
   },
   "source": [
    "Вычисляем $\\varepsilon = -1/2 + i\\cdot\\frac{\\sqrt{3}}{2}$"
   ]
  },
  {
   "cell_type": "code",
   "execution_count": 65,
   "metadata": {
    "collapsed": false
   },
   "outputs": [
    {
     "data": {
      "text/html": [
       "<html><script type=\"math/tex; mode=display\">\\newcommand{\\Bold}[1]{\\mathbf{#1}}\\frac{1}{2} \\, \\sqrt{-3} - \\frac{1}{2}</script></html>"
      ],
      "text/plain": [
       "1/2*sqrt(-3) - 1/2"
      ]
     },
     "execution_count": 65,
     "metadata": {
     },
     "output_type": "execute_result"
    }
   ],
   "source": [
    "Eps = -1/2 + (sqrt(-3))/2\n",
    "show(Eps)"
   ]
  },
  {
   "cell_type": "markdown",
   "metadata": {
    "collapsed": false
   },
   "source": [
    "Корни z:<br>\n",
    "$z1 = u1 + v1$<br>\n",
    "$z2 = u1\\cdot \\varepsilon + v1\\cdot \\varepsilon^2$<br>\n",
    "$z3 = v1\\cdot \\varepsilon + u1\\cdot \\varepsilon^2$<br>"
   ]
  },
  {
   "cell_type": "code",
   "execution_count": 66,
   "metadata": {
    "collapsed": false
   },
   "outputs": [
    {
     "data": {
      "text/html": [
       "<html><script type=\"math/tex; mode=display\">\\newcommand{\\Bold}[1]{\\mathbf{#1}}\\verb|z0|\\phantom{\\verb!x!}\\verb|=| \\frac{1}{12} \\cdot 2^{\\frac{2}{3}} {\\left(9 \\, \\sqrt{521} + 101\\right)}^{\\frac{1}{3}} - \\frac{10 \\cdot 2^{\\frac{1}{3}}}{3 \\, {\\left(9 \\, \\sqrt{521} + 101\\right)}^{\\frac{1}{3}}}</script></html>"
      ],
      "text/plain": [
       "'z0 = ' 1/12*2^(2/3)*(9*sqrt(521) + 101)^(1/3) - 10/3*2^(1/3)/(9*sqrt(521) + 101)^(1/3)"
      ]
     },
     "execution_count": 66,
     "metadata": {
     },
     "output_type": "execute_result"
    },
    {
     "data": {
      "text/html": [
       "<html><script type=\"math/tex; mode=display\">\\newcommand{\\Bold}[1]{\\mathbf{#1}}\\verb|z1|\\phantom{\\verb!x!}\\verb|=| \\frac{1}{24} \\cdot 2^{\\frac{2}{3}} {\\left(9 \\, \\sqrt{521} + 101\\right)}^{\\frac{1}{3}} {\\left(i \\, \\sqrt{3} - 1\\right)} - \\frac{5 \\cdot 2^{\\frac{1}{3}} {\\left(i \\, \\sqrt{3} - 1\\right)}^{2}}{6 \\, {\\left(9 \\, \\sqrt{521} + 101\\right)}^{\\frac{1}{3}}}</script></html>"
      ],
      "text/plain": [
       "'z1 = ' 1/24*2^(2/3)*(9*sqrt(521) + 101)^(1/3)*(I*sqrt(3) - 1) - 5/6*2^(1/3)*(I*sqrt(3) - 1)^2/(9*sqrt(521) + 101)^(1/3)"
      ]
     },
     "execution_count": 66,
     "metadata": {
     },
     "output_type": "execute_result"
    },
    {
     "data": {
      "text/html": [
       "<html><script type=\"math/tex; mode=display\">\\newcommand{\\Bold}[1]{\\mathbf{#1}}\\verb|z2|\\phantom{\\verb!x!}\\verb|=| \\frac{1}{48} \\cdot 2^{\\frac{2}{3}} {\\left(9 \\, \\sqrt{521} + 101\\right)}^{\\frac{1}{3}} {\\left(i \\, \\sqrt{3} - 1\\right)}^{2} - \\frac{5 \\cdot 2^{\\frac{1}{3}} {\\left(i \\, \\sqrt{3} - 1\\right)}}{3 \\, {\\left(9 \\, \\sqrt{521} + 101\\right)}^{\\frac{1}{3}}}</script></html>"
      ],
      "text/plain": [
       "'z2 = ' 1/48*2^(2/3)*(9*sqrt(521) + 101)^(1/3)*(I*sqrt(3) - 1)^2 - 5/3*2^(1/3)*(I*sqrt(3) - 1)/(9*sqrt(521) + 101)^(1/3)"
      ]
     },
     "execution_count": 66,
     "metadata": {
     },
     "output_type": "execute_result"
    },
    {
     "data": {
      "text/html": [
       "<html><script type=\"math/tex; mode=display\">\\newcommand{\\Bold}[1]{\\mathbf{#1}}\\verb|z0|\\phantom{\\verb!x!}\\verb|=| 0.2689</script></html>"
      ],
      "text/plain": [
       "'z0 = ' 0.2689"
      ]
     },
     "execution_count": 66,
     "metadata": {
     },
     "output_type": "execute_result"
    },
    {
     "data": {
      "text/html": [
       "<html><script type=\"math/tex; mode=display\">\\newcommand{\\Bold}[1]{\\mathbf{#1}}\\verb|z1|\\phantom{\\verb!x!}\\verb|=| -0.1344 + 1.312i</script></html>"
      ],
      "text/plain": [
       "'z1 = ' -0.1344 + 1.312*I"
      ]
     },
     "execution_count": 66,
     "metadata": {
     },
     "output_type": "execute_result"
    },
    {
     "data": {
      "text/html": [
       "<html><script type=\"math/tex; mode=display\">\\newcommand{\\Bold}[1]{\\mathbf{#1}}\\verb|z2|\\phantom{\\verb!x!}\\verb|=| -0.1344 - 1.312i</script></html>"
      ],
      "text/plain": [
       "'z2 = ' -0.1344 - 1.312*I"
      ]
     },
     "execution_count": 66,
     "metadata": {
     },
     "output_type": "execute_result"
    }
   ],
   "source": [
    "z = [u1 + v1\n",
    "     , u1*Eps + v1*Eps**2\n",
    "     , v1*Eps + u1*Eps**2\n",
    "    ]\n",
    "\n",
    "for i, zi in enumerate(z):\n",
    "    show(f\"z{i} = \", zi.simplify())\n",
    "\n",
    "for i, zi in enumerate(z):\n",
    "    show(f\"z{i} = \", zi.n(digits=4))"
   ]
  },
  {
   "cell_type": "markdown",
   "metadata": {
    "collapsed": false
   },
   "source": [
    "Теперь ищем D, чтобы сверить, какие корни получились, какие должны быть и пр.:<br>\n",
    "D < 0: 1 действительный, два комплексных корня<br>\n",
    "D == 0: три действительных корня, два из них равные<br>\n",
    "D > 0 - три действительных и различных"
   ]
  },
  {
   "cell_type": "code",
   "execution_count": 67,
   "metadata": {
    "collapsed": false
   },
   "outputs": [
   ],
   "source": [
    "D = -4*p**3 - 27*q**2"
   ]
  },
  {
   "cell_type": "code",
   "execution_count": 68,
   "metadata": {
    "collapsed": false
   },
   "outputs": [
    {
     "data": {
      "text/plain": [
       "-1563/64"
      ]
     },
     "execution_count": 68,
     "metadata": {
     },
     "output_type": "execute_result"
    }
   ],
   "source": [
    "D(**pq)"
   ]
  },
  {
   "cell_type": "markdown",
   "metadata": {
    "collapsed": false
   },
   "source": [
    "Вернемся к подстановке: x = z - a/3"
   ]
  },
  {
   "cell_type": "code",
   "execution_count": 69,
   "metadata": {
    "collapsed": false
   },
   "outputs": [
    {
     "data": {
      "text/html": [
       "<html><script type=\"math/tex; mode=display\">\\newcommand{\\Bold}[1]{\\mathbf{#1}}\\verb|x0|\\phantom{\\verb!x!}\\verb|=| 0.4355</script></html>"
      ],
      "text/plain": [
       "'x0 = ' 0.4355"
      ]
     },
     "execution_count": 69,
     "metadata": {
     },
     "output_type": "execute_result"
    },
    {
     "data": {
      "text/html": [
       "<html><script type=\"math/tex; mode=display\">\\newcommand{\\Bold}[1]{\\mathbf{#1}}\\verb|x1|\\phantom{\\verb!x!}\\verb|=| 0.03222 + 1.312i</script></html>"
      ],
      "text/plain": [
       "'x1 = ' 0.03222 + 1.312*I"
      ]
     },
     "execution_count": 69,
     "metadata": {
     },
     "output_type": "execute_result"
    },
    {
     "data": {
      "text/html": [
       "<html><script type=\"math/tex; mode=display\">\\newcommand{\\Bold}[1]{\\mathbf{#1}}\\verb|x2|\\phantom{\\verb!x!}\\verb|=| 0.03223 - 1.312i</script></html>"
      ],
      "text/plain": [
       "'x2 = ' 0.03223 - 1.312*I"
      ]
     },
     "execution_count": 69,
     "metadata": {
     },
     "output_type": "execute_result"
    }
   ],
   "source": [
    "a = poly_x.coefficient(x, 2)\n",
    "\n",
    "\n",
    "def from_z_to_x(_z, _a):\n",
    "    return _z - _a/3\n",
    "\n",
    "\n",
    "for i, zi in enumerate(z):\n",
    "    xi = from_z_to_x(_z=zi, _a=a)\n",
    "    show(f\"x{i} = \", xi.n(digits=4))"
   ]
  },
  {
   "cell_type": "code",
   "execution_count": 70,
   "metadata": {
    "collapsed": false
   },
   "outputs": [
    {
     "data": {
      "text/html": [
       "<html><script type=\"math/tex; mode=display\">\\newcommand{\\Bold}[1]{\\mathbf{#1}}\\verb|x0|\\phantom{\\verb!x!}\\verb|=| 0.03223 - 1.312i</script></html>"
      ],
      "text/plain": [
       "'x0 = ' 0.03223 - 1.312*I"
      ]
     },
     "execution_count": 70,
     "metadata": {
     },
     "output_type": "execute_result"
    },
    {
     "data": {
      "text/html": [
       "<html><script type=\"math/tex; mode=display\">\\newcommand{\\Bold}[1]{\\mathbf{#1}}\\verb|x1|\\phantom{\\verb!x!}\\verb|=| 0.03222 + 1.312i</script></html>"
      ],
      "text/plain": [
       "'x1 = ' 0.03222 + 1.312*I"
      ]
     },
     "execution_count": 70,
     "metadata": {
     },
     "output_type": "execute_result"
    },
    {
     "data": {
      "text/html": [
       "<html><script type=\"math/tex; mode=display\">\\newcommand{\\Bold}[1]{\\mathbf{#1}}\\verb|x2|\\phantom{\\verb!x!}\\verb|=| 0.4355</script></html>"
      ],
      "text/plain": [
       "'x2 = ' 0.4355"
      ]
     },
     "execution_count": 70,
     "metadata": {
     },
     "output_type": "execute_result"
    }
   ],
   "source": [
    "var(\"x\")\n",
    "sols = solve(poly_x(), x)\n",
    "for i, sol in enumerate(sols):\n",
    "    show(f\"x{i} = \", sol.rhs().n(digits=4))"
   ]
  },
  {
   "cell_type": "code",
   "execution_count": 0,
   "metadata": {
    "collapsed": false
   },
   "outputs": [
   ],
   "source": [
   ]
  },
  {
   "cell_type": "code",
   "execution_count": 0,
   "metadata": {
    "collapsed": false
   },
   "outputs": [
   ],
   "source": [
   ]
  },
  {
   "cell_type": "code",
   "execution_count": 0,
   "metadata": {
    "collapsed": false
   },
   "outputs": [
   ],
   "source": [
   ]
  }
 ],
 "metadata": {
  "kernelspec": {
   "display_name": "SageMath 9.2",
   "language": "sagemath",
   "metadata": {
    "cocalc": {
     "description": "Open-source mathematical software system",
     "priority": 10,
     "url": "https://www.sagemath.org/"
    }
   },
   "name": "sage-9.2",
   "resource_dir": "/ext/jupyter/kernels/sage-9.2"
  },
  "language_info": {
   "codemirror_mode": {
    "name": "ipython",
    "version": 3
   },
   "file_extension": ".py",
   "mimetype": "text/x-python",
   "name": "python",
   "nbconvert_exporter": "python",
   "pygments_lexer": "ipython3",
   "version": "3.8.5"
  }
 },
 "nbformat": 4,
 "nbformat_minor": 4
}