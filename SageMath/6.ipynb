{
 "cells": [
  {
   "cell_type": "markdown",
   "metadata": {
    "collapsed": false
   },
   "source": [
    "<h1 style='color: black'>Задание №6. НОД двух полиномов</h1>"
   ]
  },
  {
   "cell_type": "code",
   "execution_count": 3,
   "metadata": {
    "collapsed": false
   },
   "outputs": [
    {
     "data": {
      "text/plain": [
       "Multivariate Polynomial Ring in x, y over Rational Field"
      ]
     },
     "execution_count": 3,
     "metadata": {
     },
     "output_type": "execute_result"
    }
   ],
   "source": [
    "R, (x, y) = PolynomialRing(QQ,'x, y').objgens()\n",
    "R"
   ]
  },
  {
   "cell_type": "code",
   "execution_count": 2,
   "metadata": {
    "collapsed": false
   },
   "outputs": [
    {
     "data": {
      "text/html": [
       "<html><script type=\"math/tex; mode=display\">\\newcommand{\\Bold}[1]{\\mathbf{#1}}\\verb|f|\\phantom{\\verb!x!}\\verb|=| x^{4} + x^{3} + 2 x^{2} + x + 1</script></html>"
      ],
      "text/latex": [
       "\\begin{math}\n",
       "\\newcommand{\\Bold}[1]{\\mathbf{#1}}\\verb|f|\\phantom{\\verb!x!}\\verb|=| x^{4} + x^{3} + 2 x^{2} + x + 1\n",
       "\\end{math}"
      ],
      "text/plain": [
       "'f = ' x^4 + x^3 + 2*x^2 + x + 1"
      ]
     },
     "execution_count": 2,
     "metadata": {
     },
     "output_type": "execute_result"
    },
    {
     "data": {
      "text/html": [
       "<html><script type=\"math/tex; mode=display\">\\newcommand{\\Bold}[1]{\\mathbf{#1}}\\verb|g|\\phantom{\\verb!x!}\\verb|=| x^{3} - 2 x^{2} + x - 2</script></html>"
      ],
      "text/latex": [
       "\\begin{math}\n",
       "\\newcommand{\\Bold}[1]{\\mathbf{#1}}\\verb|g|\\phantom{\\verb!x!}\\verb|=| x^{3} - 2 x^{2} + x - 2\n",
       "\\end{math}"
      ],
      "text/plain": [
       "'g = ' x^3 - 2*x^2 + x - 2"
      ]
     },
     "execution_count": 2,
     "metadata": {
     },
     "output_type": "execute_result"
    }
   ],
   "source": [
    "f = x^4 + x^3 + 2 * x^2 + x + 1\n",
    "g = x^3 - 2*x^2 + x - 2\n",
    "show(\"f = \", f)\n",
    "show(\"g = \", g)"
   ]
  },
  {
   "cell_type": "code",
   "execution_count": 5,
   "metadata": {
    "collapsed": false
   },
   "outputs": [
   ],
   "source": [
    "def MyGcd(p1, p2):\n",
    "    while p1 != 0 and p2 != 0:\n",
    "        if p1 >= p2:\n",
    "            p1 %= p2\n",
    "        else:\n",
    "            p2 %= p1\n",
    "    return p1 or p2"
   ]
  },
  {
   "cell_type": "code",
   "execution_count": 7,
   "metadata": {
    "collapsed": false
   },
   "outputs": [
    {
     "data": {
      "text/html": [
       "<html><script type=\"math/tex; mode=display\">\\newcommand{\\Bold}[1]{\\mathbf{#1}}\\verb|НОД=| x^{2} + 1</script></html>"
      ],
      "text/latex": [
       "\\begin{math}\n",
       "\\newcommand{\\Bold}[1]{\\mathbf{#1}}\\verb|НОД=| x^{2} + 1\n",
       "\\end{math}"
      ],
      "text/plain": [
       "'НОД= ' x^2 + 1"
      ]
     },
     "execution_count": 7,
     "metadata": {
     },
     "output_type": "execute_result"
    }
   ],
   "source": [
    "my_gcd = MyGcd(f, g)/7\n",
    "res = f.gcd(g)\n",
    "\n",
    "if my_gcd == res:\n",
    "    show(\"НОД= \", my_gcd)\n",
    "else:\n",
    "    show(\"НОД вычислен неверно!\")"
   ]
  },
  {
   "cell_type": "code",
   "execution_count": 0,
   "metadata": {
    "collapsed": false
   },
   "outputs": [
   ],
   "source": [
   ]
  }
 ],
 "metadata": {
  "kernelspec": {
   "display_name": "SageMath 9.2",
   "language": "sagemath",
   "metadata": {
    "cocalc": {
     "description": "Open-source mathematical software system",
     "priority": 10,
     "url": "https://www.sagemath.org/"
    }
   },
   "name": "sage-9.2",
   "resource_dir": "/ext/jupyter/kernels/sage-9.2"
  },
  "language_info": {
   "codemirror_mode": {
    "name": "ipython",
    "version": 3
   },
   "file_extension": ".py",
   "mimetype": "text/x-python",
   "name": "python",
   "nbconvert_exporter": "python",
   "pygments_lexer": "ipython3",
   "version": "3.8.5"
  }
 },
 "nbformat": 4,
 "nbformat_minor": 4
}