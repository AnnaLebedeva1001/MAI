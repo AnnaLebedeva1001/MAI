{
 "cells": [
  {
   "cell_type": "markdown",
   "metadata": {
    "collapsed": false
   },
   "source": [
    "<h1 style='color: black'>Задание №7. Линейное преобразование и характеристическое уравнение</h1>"
   ]
  },
  {
   "cell_type": "code",
   "execution_count": 1,
   "metadata": {
    "collapsed": false
   },
   "outputs": [
    {
     "data": {
      "text/html": [
       "<html><script type=\"math/tex; mode=display\">\\newcommand{\\Bold}[1]{\\mathbf{#1}}\\verb|A|\\phantom{\\verb!x!}\\verb|=| \\left(\\begin{array}{rrr}\n",
       "1 & 1 & 0 \\\\\n",
       "2 & 1 & -2 \\\\\n",
       "1 & 3 & 1\n",
       "\\end{array}\\right)</script></html>"
      ],
      "text/latex": [
       "\\begin{math}\n",
       "\\newcommand{\\Bold}[1]{\\mathbf{#1}}\\verb|A|\\phantom{\\verb!x!}\\verb|=| \\left(\\begin{array}{rrr}\n",
       "1 & 1 & 0 \\\\\n",
       "2 & 1 & -2 \\\\\n",
       "1 & 3 & 1\n",
       "\\end{array}\\right)\n",
       "\\end{math}"
      ],
      "text/plain": [
       "'A = ' [ 1  1  0]\n",
       "[ 2  1 -2]\n",
       "[ 1  3  1]"
      ]
     },
     "execution_count": 1,
     "metadata": {
     },
     "output_type": "execute_result"
    },
    {
     "data": {
      "text/html": [
       "<html><script type=\"math/tex; mode=display\">\\newcommand{\\Bold}[1]{\\mathbf{#1}}\\verb|Новый|\\phantom{\\verb!x!}\\verb|базис:| \\left(\\begin{array}{rrr}\n",
       "2 & 4 & 1 \\\\\n",
       "2 & 1 & 0 \\\\\n",
       "1 & 0 & 1\n",
       "\\end{array}\\right)</script></html>"
      ],
      "text/latex": [
       "\\begin{math}\n",
       "\\newcommand{\\Bold}[1]{\\mathbf{#1}}\\verb|Новый|\\phantom{\\verb!x!}\\verb|базис:| \\left(\\begin{array}{rrr}\n",
       "2 & 4 & 1 \\\\\n",
       "2 & 1 & 0 \\\\\n",
       "1 & 0 & 1\n",
       "\\end{array}\\right)\n",
       "\\end{math}"
      ],
      "text/plain": [
       "'Новый базис: ' [2 4 1]\n",
       "[2 1 0]\n",
       "[1 0 1]"
      ]
     },
     "execution_count": 1,
     "metadata": {
     },
     "output_type": "execute_result"
    }
   ],
   "source": [
    "N = MatrixSpace(QQ, 3)\n",
    "A = N([1, 1, 0, 2, 1, -2, 1, 3, 1])\n",
    "S = N([2, 4, 1, 2, 1, 0, 1, 0, 1])\n",
    "show(\"A = \", A)\n",
    "show(\"Новый базис: \", S)"
   ]
  },
  {
   "cell_type": "code",
   "execution_count": 2,
   "metadata": {
    "collapsed": false
   },
   "outputs": [
    {
     "data": {
      "text/html": [
       "<html><script type=\"math/tex; mode=display\">\\newcommand{\\Bold}[1]{\\mathbf{#1}}\\verb|B|\\phantom{\\verb!x!}\\verb|=| \\left(\\begin{array}{rrr}\n",
       "3 & \\frac{38}{7} & \\frac{1}{7} \\\\\n",
       "-2 & -\\frac{13}{7} & -\\frac{2}{7} \\\\\n",
       "6 & \\frac{11}{7} & \\frac{13}{7}\n",
       "\\end{array}\\right)</script></html>"
      ],
      "text/latex": [
       "\\begin{math}\n",
       "\\newcommand{\\Bold}[1]{\\mathbf{#1}}\\verb|B|\\phantom{\\verb!x!}\\verb|=| \\left(\\begin{array}{rrr}\n",
       "3 & \\frac{38}{7} & \\frac{1}{7} \\\\\n",
       "-2 & -\\frac{13}{7} & -\\frac{2}{7} \\\\\n",
       "6 & \\frac{11}{7} & \\frac{13}{7}\n",
       "\\end{array}\\right)\n",
       "\\end{math}"
      ],
      "text/plain": [
       "'B = ' [    3  38/7   1/7]\n",
       "[   -2 -13/7  -2/7]\n",
       "[    6  11/7  13/7]"
      ]
     },
     "execution_count": 2,
     "metadata": {
     },
     "output_type": "execute_result"
    }
   ],
   "source": [
    "B = (~S) * A * S\n",
    "show(\"B = \", B)"
   ]
  },
  {
   "cell_type": "code",
   "execution_count": 3,
   "metadata": {
    "collapsed": false
   },
   "outputs": [
    {
     "data": {
      "text/html": [
       "<html><script type=\"math/tex; mode=display\">\\newcommand{\\Bold}[1]{\\mathbf{#1}}\\left[x = -\\frac{1}{2} \\, {\\left(\\frac{1}{9} \\, \\sqrt{91} \\sqrt{3} - 1\\right)}^{\\frac{1}{3}} {\\left(i \\, \\sqrt{3} + 1\\right)} - \\frac{2 \\, {\\left(i \\, \\sqrt{3} - 1\\right)}}{3 \\, {\\left(\\frac{1}{9} \\, \\sqrt{91} \\sqrt{3} - 1\\right)}^{\\frac{1}{3}}} + 1, x = -\\frac{1}{2} \\, {\\left(\\frac{1}{9} \\, \\sqrt{91} \\sqrt{3} - 1\\right)}^{\\frac{1}{3}} {\\left(-i \\, \\sqrt{3} + 1\\right)} + \\frac{2 \\, {\\left(i \\, \\sqrt{3} + 1\\right)}}{3 \\, {\\left(\\frac{1}{9} \\, \\sqrt{91} \\sqrt{3} - 1\\right)}^{\\frac{1}{3}}} + 1, x = {\\left(\\frac{1}{9} \\, \\sqrt{91} \\sqrt{3} - 1\\right)}^{\\frac{1}{3}} - \\frac{4}{3 \\, {\\left(\\frac{1}{9} \\, \\sqrt{91} \\sqrt{3} - 1\\right)}^{\\frac{1}{3}}} + 1\\right]</script></html>"
      ],
      "text/latex": [
       "\\begin{math}\n",
       "\\newcommand{\\Bold}[1]{\\mathbf{#1}}\\left[x = -\\frac{1}{2} \\, {\\left(\\frac{1}{9} \\, \\sqrt{91} \\sqrt{3} - 1\\right)}^{\\frac{1}{3}} {\\left(i \\, \\sqrt{3} + 1\\right)} - \\frac{2 \\, {\\left(i \\, \\sqrt{3} - 1\\right)}}{3 \\, {\\left(\\frac{1}{9} \\, \\sqrt{91} \\sqrt{3} - 1\\right)}^{\\frac{1}{3}}} + 1, x = -\\frac{1}{2} \\, {\\left(\\frac{1}{9} \\, \\sqrt{91} \\sqrt{3} - 1\\right)}^{\\frac{1}{3}} {\\left(-i \\, \\sqrt{3} + 1\\right)} + \\frac{2 \\, {\\left(i \\, \\sqrt{3} + 1\\right)}}{3 \\, {\\left(\\frac{1}{9} \\, \\sqrt{91} \\sqrt{3} - 1\\right)}^{\\frac{1}{3}}} + 1, x = {\\left(\\frac{1}{9} \\, \\sqrt{91} \\sqrt{3} - 1\\right)}^{\\frac{1}{3}} - \\frac{4}{3 \\, {\\left(\\frac{1}{9} \\, \\sqrt{91} \\sqrt{3} - 1\\right)}^{\\frac{1}{3}}} + 1\\right]\n",
       "\\end{math}"
      ],
      "text/plain": [
       "[x == -1/2*(1/9*sqrt(91)*sqrt(3) - 1)^(1/3)*(I*sqrt(3) + 1) - 2/3*(I*sqrt(3) - 1)/(1/9*sqrt(91)*sqrt(3) - 1)^(1/3) + 1, x == -1/2*(1/9*sqrt(91)*sqrt(3) - 1)^(1/3)*(-I*sqrt(3) + 1) + 2/3*(I*sqrt(3) + 1)/(1/9*sqrt(91)*sqrt(3) - 1)^(1/3) + 1, x == (1/9*sqrt(91)*sqrt(3) - 1)^(1/3) - 4/3/(1/9*sqrt(91)*sqrt(3) - 1)^(1/3) + 1]"
      ]
     },
     "execution_count": 3,
     "metadata": {
     },
     "output_type": "execute_result"
    }
   ],
   "source": [
    "E = N([1, 0, 0, 0, 1, 0, 0, 0, 1])\n",
    "q = solve(det(A - x*E) == 0, x)\n",
    "show(q)"
   ]
  },
  {
   "cell_type": "code",
   "execution_count": 4,
   "metadata": {
    "collapsed": false
   },
   "outputs": [
    {
     "data": {
      "text/html": [
       "<html><script type=\"math/tex; mode=display\">\\newcommand{\\Bold}[1]{\\mathbf{#1}}\\verb|Собственнные|\\phantom{\\verb!x!}\\verb|значения|\\phantom{\\verb!x!}\\verb|B:| \\left[0.5265341922708738?, 1.236732903864563? - 2.041599226909250? \\sqrt{-1}, 1.236732903864563? + 2.041599226909250? \\sqrt{-1}\\right]</script></html>"
      ],
      "text/latex": [
       "\\begin{math}\n",
       "\\newcommand{\\Bold}[1]{\\mathbf{#1}}\\verb|Собственнные|\\phantom{\\verb!x!}\\verb|значения|\\phantom{\\verb!x!}\\verb|B:| \\left[0.5265341922708738?, 1.236732903864563? - 2.041599226909250? \\sqrt{-1}, 1.236732903864563? + 2.041599226909250? \\sqrt{-1}\\right]\n",
       "\\end{math}"
      ],
      "text/plain": [
       "'Собственнные значения B:' [0.5265341922708738?, 1.236732903864563? - 2.041599226909250?*I, 1.236732903864563? + 2.041599226909250?*I]"
      ]
     },
     "execution_count": 4,
     "metadata": {
     },
     "output_type": "execute_result"
    },
    {
     "data": {
      "text/html": [
       "<html><script type=\"math/tex; mode=display\">\\newcommand{\\Bold}[1]{\\mathbf{#1}}\\verb|Собственные|\\phantom{\\verb!x!}\\verb|векторы|\\phantom{\\verb!x!}\\verb|B:| \\left[\\left(0.5265341922708738?, \\left[\\left(1,\\,-0.3477835023267799?,\\,-4.098487565686247?\\right)\\right], 1\\right), \\left(1.236732903864563? - 2.041599226909250? \\sqrt{-1}, \\left[\\left(1,\\,-0.3132877360160973? - 0.4435749036487627? \\sqrt{-1},\\,-0.4379357043363634? + 2.564651750288235? \\sqrt{-1}\\right)\\right], 1\\right), \\left(1.236732903864563? + 2.041599226909250? \\sqrt{-1}, \\left[\\left(1,\\,-0.3132877360160973? + 0.4435749036487627? \\sqrt{-1},\\,-0.4379357043363634? - 2.564651750288235? \\sqrt{-1}\\right)\\right], 1\\right)\\right]</script></html>"
      ],
      "text/latex": [
       "\\begin{math}\n",
       "\\newcommand{\\Bold}[1]{\\mathbf{#1}}\\verb|Собственные|\\phantom{\\verb!x!}\\verb|векторы|\\phantom{\\verb!x!}\\verb|B:| \\left[\\left(0.5265341922708738?, \\left[\\left(1,\\,-0.3477835023267799?,\\,-4.098487565686247?\\right)\\right], 1\\right), \\left(1.236732903864563? - 2.041599226909250? \\sqrt{-1}, \\left[\\left(1,\\,-0.3132877360160973? - 0.4435749036487627? \\sqrt{-1},\\,-0.4379357043363634? + 2.564651750288235? \\sqrt{-1}\\right)\\right], 1\\right), \\left(1.236732903864563? + 2.041599226909250? \\sqrt{-1}, \\left[\\left(1,\\,-0.3132877360160973? + 0.4435749036487627? \\sqrt{-1},\\,-0.4379357043363634? - 2.564651750288235? \\sqrt{-1}\\right)\\right], 1\\right)\\right]\n",
       "\\end{math}"
      ],
      "text/plain": [
       "'Собственные векторы B:' [(0.5265341922708738?, [(1, -0.3477835023267799?, -4.098487565686247?)], 1),\n",
       " (1.236732903864563? - 2.041599226909250?*I,\n",
       "  [(1, -0.3132877360160973? - 0.4435749036487627?*I, -0.4379357043363634? + 2.564651750288235?*I)],\n",
       "  1),\n",
       " (1.236732903864563? + 2.041599226909250?*I,\n",
       "  [(1, -0.3132877360160973? + 0.4435749036487627?*I, -0.4379357043363634? - 2.564651750288235?*I)],\n",
       "  1)]"
      ]
     },
     "execution_count": 4,
     "metadata": {
     },
     "output_type": "execute_result"
    }
   ],
   "source": [
    "show(\"Собственнные значения B:\", B.eigenvalues())\n",
    "show(\"Собственные векторы B:\", B.eigenvectors_right())"
   ]
  },
  {
   "cell_type": "code",
   "execution_count": 5,
   "metadata": {
    "collapsed": false
   },
   "outputs": [
    {
     "data": {
      "text/html": [
       "<html><script type=\"math/tex; mode=display\">\\newcommand{\\Bold}[1]{\\mathbf{#1}}\\verb|Характеристичекий|\\phantom{\\verb!x!}\\verb|полином|\\phantom{\\verb!x!}\\verb|A:| x^{3} - 3 x^{2} + 7 x - 3</script></html>"
      ],
      "text/latex": [
       "\\begin{math}\n",
       "\\newcommand{\\Bold}[1]{\\mathbf{#1}}\\verb|Характеристичекий|\\phantom{\\verb!x!}\\verb|полином|\\phantom{\\verb!x!}\\verb|A:| x^{3} - 3 x^{2} + 7 x - 3\n",
       "\\end{math}"
      ],
      "text/plain": [
       "'Характеристичекий полином A: ' x^3 - 3*x^2 + 7*x - 3"
      ]
     },
     "execution_count": 5,
     "metadata": {
     },
     "output_type": "execute_result"
    },
    {
     "data": {
      "text/html": [
       "<html><script type=\"math/tex; mode=display\">\\newcommand{\\Bold}[1]{\\mathbf{#1}}\\verb|Характеристичекий|\\phantom{\\verb!x!}\\verb|полином|\\phantom{\\verb!x!}\\verb|B:| x^{3} - 3 x^{2} + 7 x - 3</script></html>"
      ],
      "text/latex": [
       "\\begin{math}\n",
       "\\newcommand{\\Bold}[1]{\\mathbf{#1}}\\verb|Характеристичекий|\\phantom{\\verb!x!}\\verb|полином|\\phantom{\\verb!x!}\\verb|B:| x^{3} - 3 x^{2} + 7 x - 3\n",
       "\\end{math}"
      ],
      "text/plain": [
       "'Характеристичекий полином B: ' x^3 - 3*x^2 + 7*x - 3"
      ]
     },
     "execution_count": 5,
     "metadata": {
     },
     "output_type": "execute_result"
    }
   ],
   "source": [
    "show(\"Характеристичекий полином A: \", A.charpoly())\n",
    "show(\"Характеристичекий полином B: \",B.charpoly())"
   ]
  }
 ],
 "metadata": {
  "kernelspec": {
   "display_name": "SageMath 9.2",
   "language": "sagemath",
   "metadata": {
    "cocalc": {
     "description": "Open-source mathematical software system",
     "priority": 10,
     "url": "https://www.sagemath.org/"
    }
   },
   "name": "sage-9.2",
   "resource_dir": "/ext/jupyter/kernels/sage-9.2"
  },
  "language_info": {
   "codemirror_mode": {
    "name": "ipython",
    "version": 3
   },
   "file_extension": ".py",
   "mimetype": "text/x-python",
   "name": "python",
   "nbconvert_exporter": "python",
   "pygments_lexer": "ipython3",
   "version": "3.8.5"
  }
 },
 "nbformat": 4,
 "nbformat_minor": 4
}