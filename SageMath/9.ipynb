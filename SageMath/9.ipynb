{
 "cells": [
  {
   "cell_type": "markdown",
   "metadata": {
    "collapsed": false
   },
   "source": [
    "<h1 style='color: black'>Задание №9. Численные методы — Интегралы</h1>"
   ]
  },
  {
   "cell_type": "code",
   "execution_count": 17,
   "metadata": {
    "collapsed": false
   },
   "outputs": [
    {
     "data": {
      "text/html": [
       "<html><script type=\"math/tex; mode=display\">\\newcommand{\\Bold}[1]{\\mathbf{#1}}\\frac{8 \\, x - \\arctan\\left(2 \\, x\\right)}{4 \\, x^{2} + 1}</script></html>"
      ],
      "text/latex": [
       "\\begin{math}\n",
       "\\newcommand{\\Bold}[1]{\\mathbf{#1}}\\frac{8 \\, x - \\arctan\\left(2 \\, x\\right)}{4 \\, x^{2} + 1}\n",
       "\\end{math}"
      ],
      "text/plain": [
       "(8*x - arctan(2*x))/(4*x^2 + 1)"
      ]
     },
     "execution_count": 17,
     "metadata": {
     },
     "output_type": "execute_result"
    }
   ],
   "source": [
    "f = (8 * x - arctan(2 * x))/(1 + 4 * x^2)\n",
    "a=0\n",
    "b=pi/4\n",
    "show(f)"
   ]
  },
  {
   "cell_type": "markdown",
   "metadata": {
    "collapsed": false
   },
   "source": [
    "Построим её график на отрезке $(0, \\frac{π}{4})$ и закрасим площадь под ней."
   ]
  },
  {
   "cell_type": "code",
   "execution_count": 18,
   "metadata": {
    "collapsed": false
   },
   "outputs": [
    {
     "data": {
      "image/png": "[encoded data removed]",
      "text/plain": [
       "Graphics object consisting of 2 graphics primitives"
      ]
     },
     "execution_count": 18,
     "metadata": {
     },
     "output_type": "execute_result"
    }
   ],
   "source": [
    "plot(f, xmin=a, xmax = b, fill=True, fillcolor=\"gold\")"
   ]
  },
  {
   "cell_type": "markdown",
   "metadata": {
    "collapsed": false
   },
   "source": [
    "Посчитаем значение интеграла"
   ]
  },
  {
   "cell_type": "code",
   "execution_count": 19,
   "metadata": {
    "collapsed": false
   },
   "outputs": [
    {
     "data": {
      "text/html": [
       "<html><script type=\"math/tex; mode=display\">\\newcommand{\\Bold}[1]{\\mathbf{#1}}0.9914591670015737</script></html>"
      ],
      "text/latex": [
       "\\begin{math}\n",
       "\\newcommand{\\Bold}[1]{\\mathbf{#1}}0.9914591670015737\n",
       "\\end{math}"
      ],
      "text/plain": [
       "0.9914591670015737"
      ]
     },
     "execution_count": 19,
     "metadata": {
     },
     "output_type": "execute_result"
    }
   ],
   "source": [
    "integral_result = numerical_integral(f, a, b)[0]\n",
    "show(integral_result)"
   ]
  },
  {
   "cell_type": "markdown",
   "metadata": {
    "collapsed": false
   },
   "source": [
    "$\\text{Воспользуемся методом трапеций.}$"
   ]
  },
  {
   "cell_type": "code",
   "execution_count": 25,
   "metadata": {
    "collapsed": false
   },
   "outputs": [
   ],
   "source": [
    "trapeze_result = 0\n",
    "max_steps = 10\n",
    "\n",
    "def trapeze(step):\n",
    "    global value, a, b, f, max_steps, trapeze_result\n",
    "    trapeze_result = 0\n",
    "    length = (b-a)/max_steps\n",
    "    pl = plot(f, xmin=0, xmax=1, ymin=0, ymax=2)\n",
    "    for i in range(1, step+1):\n",
    "        l = a + (i-1)*length\n",
    "        r = a + i*length\n",
    "        trapeze_result += ((f(x=r)+f(x=l))*length/2).n()\n",
    "        pl += plot(polygon2d([(l, 0),\n",
    "                   (r, 0),\n",
    "                   (r, f(x=r).n()),\n",
    "                   (l, f(x=l).n())], fill=False, rgbcolor=(255, 0, 0)))\n",
    "    show(pl)\n",
    "    show(f'i={step}. trapeze_result = {trapeze_result}')"
   ]
  },
  {
   "cell_type": "code",
   "execution_count": 26,
   "metadata": {
    "collapsed": false
   },
   "outputs": [
    {
     "data": {
      "application/vnd.jupyter.widget-view+json": {
       "model_id": "38a8f3e82bf441a2bc91dec9ab25452f",
       "version_major": 2,
       "version_minor": 0
      },
      "text/plain": [
       "Interactive function <function _ at 0x7fb43589e0d0> with 1 widget\n",
       "  step: IntSlider(value=10, description='ste…"
      ]
     },
     "execution_count": 26,
     "metadata": {
     },
     "output_type": "execute_result"
    }
   ],
   "source": [
    "@interact(step=(0, max_steps, 1))\n",
    "def _(step=10):\n",
    "    trapeze(step)"
   ]
  },
  {
   "cell_type": "markdown",
   "metadata": {
    "collapsed": false
   },
   "source": [
    "$\\text{Воспользуемся методом прямоугольников}$"
   ]
  },
  {
   "cell_type": "code",
   "execution_count": 27,
   "metadata": {
    "collapsed": false
   },
   "outputs": [
   ],
   "source": [
    "rectangle_result = 0\n",
    "def rectangle(step):\n",
    "    global value, a, b, f, max_steps, rectangle_result\n",
    "    rectangle_result = 0\n",
    "    length = (b-a)/max_steps\n",
    "    pl = plot(f, xmin=0, xmax=1, ymin=0, ymax=2)\n",
    "    for i in range(1, step+1):\n",
    "        l = a + (i-1)*length\n",
    "        r = a + i*length\n",
    "        h = (f(x=r)+f(x=l))/2\n",
    "        rectangle_result += (length*h).n()\n",
    "        pl += plot(polygon2d([(l, 0),\n",
    "                   (r, 0),\n",
    "                   (r, h.n()),\n",
    "                   (l, h.n())], fill=False, rgbcolor=(255, 0, 0)))\n",
    "    show(pl)\n",
    "    show(f'i={step}. rectangle_result = {rectangle_result}')"
   ]
  },
  {
   "cell_type": "code",
   "execution_count": 29,
   "metadata": {
    "collapsed": false
   },
   "outputs": [
    {
     "data": {
      "application/vnd.jupyter.widget-view+json": {
       "model_id": "f375c166e8804b2f95c5d8553410adfa",
       "version_major": 2,
       "version_minor": 0
      },
      "text/plain": [
       "Interactive function <function _ at 0x7fb43571e700> with 1 widget\n",
       "  step: IntSlider(value=10, description='ste…"
      ]
     },
     "execution_count": 29,
     "metadata": {
     },
     "output_type": "execute_result"
    }
   ],
   "source": [
    "@interact(step=(0, max_steps, 1))\n",
    "def _(step=10):\n",
    "    rectangle(step)"
   ]
  },
  {
   "cell_type": "markdown",
   "metadata": {
    "collapsed": false
   },
   "source": [
    "Сравним значения"
   ]
  },
  {
   "cell_type": "code",
   "execution_count": 32,
   "metadata": {
    "collapsed": false
   },
   "outputs": [
    {
     "data": {
      "text/html": [
       "<html><script type=\"math/tex; mode=display\">\\newcommand{\\Bold}[1]{\\mathbf{#1}}0.00340929833201109</script></html>"
      ],
      "text/latex": [
       "\\begin{math}\n",
       "\\newcommand{\\Bold}[1]{\\mathbf{#1}}0.00340929833201109\n",
       "\\end{math}"
      ],
      "text/plain": [
       "0.00340929833201109"
      ]
     },
     "execution_count": 32,
     "metadata": {
     },
     "output_type": "execute_result"
    }
   ],
   "source": [
    "show(integral_result - trapeze_result)"
   ]
  },
  {
   "cell_type": "code",
   "execution_count": 33,
   "metadata": {
    "collapsed": false
   },
   "outputs": [
    {
     "data": {
      "text/html": [
       "<html><script type=\"math/tex; mode=display\">\\newcommand{\\Bold}[1]{\\mathbf{#1}}0.00340929833201109</script></html>"
      ],
      "text/latex": [
       "\\begin{math}\n",
       "\\newcommand{\\Bold}[1]{\\mathbf{#1}}0.00340929833201109\n",
       "\\end{math}"
      ],
      "text/plain": [
       "0.00340929833201109"
      ]
     },
     "execution_count": 33,
     "metadata": {
     },
     "output_type": "execute_result"
    }
   ],
   "source": [
    "show(integral_result - rectangle_result)"
   ]
  },
  {
   "cell_type": "markdown",
   "metadata": {
    "collapsed": false
   },
   "source": [
    "$\\text{Значения обоих методов сходятся с точность до 4 знака после запятой.}$"
   ]
  }
 ],
 "metadata": {
  "kernelspec": {
   "display_name": "SageMath 9.2",
   "language": "sagemath",
   "metadata": {
    "cocalc": {
     "description": "Open-source mathematical software system",
     "priority": 10,
     "url": "https://www.sagemath.org/"
    }
   },
   "name": "sage-9.2",
   "resource_dir": "/ext/jupyter/kernels/sage-9.2"
  },
  "language_info": {
   "codemirror_mode": {
    "name": "ipython",
    "version": 3
   },
   "file_extension": ".py",
   "mimetype": "text/x-python",
   "name": "python",
   "nbconvert_exporter": "python",
   "pygments_lexer": "ipython3",
   "version": "3.8.5"
  }
 },
 "nbformat": 4,
 "nbformat_minor": 4
}